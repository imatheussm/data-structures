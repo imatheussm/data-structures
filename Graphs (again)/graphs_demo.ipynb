{
 "cells": [
  {
   "cell_type": "markdown",
   "metadata": {},
   "source": [
    "# Graphs: `graphs` module"
   ]
  },
  {
   "cell_type": "markdown",
   "metadata": {},
   "source": [
    "**A demonstration notebook for the `graphs` module**"
   ]
  },
  {
   "cell_type": "markdown",
   "metadata": {},
   "source": [
    "This is a demonstration notebook for the second and third deliverables of the discipline **Algorithms Project II**, lectured by **Professor Reginaldo Cordeiro dos Santos Filho** at the **Federal University of Pará (UFPA)**."
   ]
  },
  {
   "cell_type": "markdown",
   "metadata": {},
   "source": [
    "- [1. Goals](#1.-Goals)\n",
    "- [2. Requirements](#2.-Requirements)\n",
    "    - [2.1. Definitions](#2.1.-Definitions)\n",
    "- [3. Examples](#3.-Examples)\n",
    "    - [3.1. Example 1](#3.1.-Example-1)\n",
    "        - [3.1.1. Creation](#3.1.1.-Creation)\n",
    "        - [3.1.2. Edge removal](#3.1.2.-Edge-removal)\n",
    "        - [3.1.3. Edge verification](#3.1.3.-Edge-verification)\n",
    "        - [3.1.4. Properties verification](#3.1.4.-Properties-verification)\n",
    "        - [3.1.5. Obtaining adjacency](#3.1.5.-Obtaining-adjacency)\n",
    "        - [3.1.6. Obtaining degree](#3.1.6.-Obtaining-degree)\n",
    "    - [3.2. Example 2](#3.2.-Example-2)\n",
    "        - [3.2.1. Creation](#3.2.1.-Creation)\n",
    "        - [3.2.2. Edge removal](#3.2.2.-Edge-removal)\n",
    "        - [3.2.3. Edge verification](#3.2.3.-Edge-verification)\n",
    "        - [3.2.4. Properties verification](#3.2.4.-Properties-verification)\n",
    "        - [3.2.5. Obtaining adjacency](#3.2.5.-Obtaining-adjacency)\n",
    "        - [3.2.6. Obtaining degree](#3.2.6.-Obtaining-degree)"
   ]
  },
  {
   "cell_type": "markdown",
   "metadata": {},
   "source": [
    "## 1. Goals"
   ]
  },
  {
   "cell_type": "markdown",
   "metadata": {},
   "source": [
    "According to the deliverable specification documents, the goals to be met are as follows:\n",
    "\n",
    "1. The two graph representations must be implemented: adjacency matrix and adjacency list.\n",
    "2. The source-code shall be presented to the Professor.\n",
    "3. The program shall build a Graph according to the specifications chosen by Professor.\n",
    "4. For each representation, the group will be asked to:\n",
    "    - build a graph;\n",
    "    - insert an edge;\n",
    "    - remove an edge;\n",
    "    - check the existence of an edge;\n",
    "    - get the adjacency list of a node;\n",
    "    - print the graph;\n",
    "    - return the number of edges and nodes;\n",
    "    - identify a node's degree.\n",
    "\n",
    "Then, considering both aforementioned implementations, the stipulations are to take advantage of the algorithms learned during class to:\n",
    "\n",
    "5. Verify if the graph is cyclic.\n",
    "6. Obtain the topological sorting.\n",
    "7. Obtain the shortest path.\n",
    "8. Obtain the strongly-linked components."
   ]
  },
  {
   "cell_type": "markdown",
   "metadata": {},
   "source": [
    "[Back to Top](#Graphs:-graphs-module)"
   ]
  },
  {
   "cell_type": "markdown",
   "metadata": {},
   "source": [
    "## 2. Requirements"
   ]
  },
  {
   "cell_type": "code",
   "execution_count": 1,
   "metadata": {},
   "outputs": [],
   "source": [
    "from os import getcwd\n",
    "from sys import path as sys_path\n",
    "sys_path.append(getcwd())"
   ]
  },
  {
   "cell_type": "code",
   "execution_count": 2,
   "metadata": {},
   "outputs": [],
   "source": [
    "import graphs"
   ]
  },
  {
   "cell_type": "markdown",
   "metadata": {},
   "source": [
    "[Back to Top](#Graphs:-graphs-module)"
   ]
  },
  {
   "cell_type": "markdown",
   "metadata": {},
   "source": [
    "### 2.1. Definitions"
   ]
  },
  {
   "cell_type": "code",
   "execution_count": 3,
   "metadata": {},
   "outputs": [],
   "source": [
    "def create_graphs(vertices, edges, directed, pondered):\n",
    "    list_graph = graphs.ListGraph(vertices, directed, pondered)\n",
    "    matrix_graph = graphs.MatrixGraph(vertices, directed, pondered)\n",
    "    \n",
    "    for edge in edges:\n",
    "        list_graph.add_edge(*edge)\n",
    "        matrix_graph.add_edge(*edge)\n",
    "        \n",
    "    return {\"list\": list_graph, \"matrix\": matrix_graph}"
   ]
  },
  {
   "cell_type": "markdown",
   "metadata": {},
   "source": [
    "[Back to Top](#Graphs:-graphs-module)"
   ]
  },
  {
   "cell_type": "markdown",
   "metadata": {},
   "source": [
    "## 3. Examples"
   ]
  },
  {
   "cell_type": "markdown",
   "metadata": {},
   "source": [
    "### 3.1. Example 1"
   ]
  },
  {
   "cell_type": "markdown",
   "metadata": {},
   "source": [
    "This example was taken from the task's document. Throughout this example, an **undirected** graph shall be created with the following nodes (V) and edges (A) sets:\n",
    "\n",
    "\n",
    "<b>V</b> = {0, 1, 2, 3, 4, 5, 6, 7, 8, 9} \n",
    "\n",
    "\n",
    "<b>A</b> = {(1, 2), (3, 4), (5, 6), (1, 7), (3, 5), (7, 9), (6, 9), (7, 8), (2, 3), (0, 1)}"
   ]
  },
  {
   "cell_type": "code",
   "execution_count": 4,
   "metadata": {},
   "outputs": [],
   "source": [
    "vertices1 = list(range(10))\n",
    "edges1 = ((1, 2), (3, 4), (5, 6), (1, 7), (3, 5), (7, 9), (6, 9), (7, 8), (2, 3), (0, 1))"
   ]
  },
  {
   "cell_type": "markdown",
   "metadata": {},
   "source": [
    "[Back to Top](#Graphs:-graphs-module)"
   ]
  },
  {
   "cell_type": "markdown",
   "metadata": {},
   "source": [
    "#### 3.1.1. Creation"
   ]
  },
  {
   "cell_type": "code",
   "execution_count": 5,
   "metadata": {},
   "outputs": [],
   "source": [
    "graphs1 = create_graphs(vertices1, edges1, False, False)"
   ]
  },
  {
   "cell_type": "code",
   "execution_count": 6,
   "metadata": {},
   "outputs": [
    {
     "data": {
      "text/plain": [
       "<ListGraph object>\n",
       "0 -> 1\n",
       "1 -> 2, 7, 0\n",
       "2 -> 1, 3\n",
       "3 -> 4, 5, 2\n",
       "4 -> 3\n",
       "5 -> 6, 3\n",
       "6 -> 5, 9\n",
       "7 -> 1, 9, 8\n",
       "8 -> 7\n",
       "9 -> 7, 6"
      ]
     },
     "execution_count": 6,
     "metadata": {},
     "output_type": "execute_result"
    }
   ],
   "source": [
    "graphs1[\"list\"]"
   ]
  },
  {
   "cell_type": "code",
   "execution_count": 7,
   "metadata": {},
   "outputs": [
    {
     "data": {
      "text/plain": [
       "<MatrixGraph object>\n",
       "   0  1  2  3  4  5  6  7  8  9 \n",
       "\n",
       "0  0  1  0  0  0  0  0  0  0  0 \n",
       "1  1  0  1  0  0  0  0  1  0  0 \n",
       "2  0  1  0  1  0  0  0  0  0  0 \n",
       "3  0  0  1  0  1  1  0  0  0  0 \n",
       "4  0  0  0  1  0  0  0  0  0  0 \n",
       "5  0  0  0  1  0  0  1  0  0  0 \n",
       "6  0  0  0  0  0  1  0  0  0  1 \n",
       "7  0  1  0  0  0  0  0  0  1  1 \n",
       "8  0  0  0  0  0  0  0  1  0  0 \n",
       "9  0  0  0  0  0  0  1  1  0  0 "
      ]
     },
     "execution_count": 7,
     "metadata": {},
     "output_type": "execute_result"
    }
   ],
   "source": [
    "graphs1[\"matrix\"]"
   ]
  },
  {
   "cell_type": "markdown",
   "metadata": {},
   "source": [
    "[Back to Top](#Graphs:-graphs-module)"
   ]
  },
  {
   "cell_type": "markdown",
   "metadata": {},
   "source": [
    "#### 3.1.2. Edge removal"
   ]
  },
  {
   "cell_type": "code",
   "execution_count": 8,
   "metadata": {},
   "outputs": [],
   "source": [
    "graphs1[\"list\"].remove_edge(1, 2)\n",
    "graphs1[\"matrix\"].remove_edge(1, 2)"
   ]
  },
  {
   "cell_type": "code",
   "execution_count": 9,
   "metadata": {},
   "outputs": [
    {
     "data": {
      "text/plain": [
       "<ListGraph object>\n",
       "0 -> 1\n",
       "1 -> 7, 0\n",
       "2 -> 3\n",
       "3 -> 4, 5, 2\n",
       "4 -> 3\n",
       "5 -> 6, 3\n",
       "6 -> 5, 9\n",
       "7 -> 1, 9, 8\n",
       "8 -> 7\n",
       "9 -> 7, 6"
      ]
     },
     "execution_count": 9,
     "metadata": {},
     "output_type": "execute_result"
    }
   ],
   "source": [
    "graphs1[\"list\"]"
   ]
  },
  {
   "cell_type": "code",
   "execution_count": 10,
   "metadata": {},
   "outputs": [
    {
     "data": {
      "text/plain": [
       "<MatrixGraph object>\n",
       "   0  1  2  3  4  5  6  7  8  9 \n",
       "\n",
       "0  0  1  0  0  0  0  0  0  0  0 \n",
       "1  1  0  0  0  0  0  0  1  0  0 \n",
       "2  0  0  0  1  0  0  0  0  0  0 \n",
       "3  0  0  1  0  1  1  0  0  0  0 \n",
       "4  0  0  0  1  0  0  0  0  0  0 \n",
       "5  0  0  0  1  0  0  1  0  0  0 \n",
       "6  0  0  0  0  0  1  0  0  0  1 \n",
       "7  0  1  0  0  0  0  0  0  1  1 \n",
       "8  0  0  0  0  0  0  0  1  0  0 \n",
       "9  0  0  0  0  0  0  1  1  0  0 "
      ]
     },
     "execution_count": 10,
     "metadata": {},
     "output_type": "execute_result"
    }
   ],
   "source": [
    "graphs1[\"matrix\"]"
   ]
  },
  {
   "cell_type": "markdown",
   "metadata": {},
   "source": [
    "[Back to Top](#Graphs:-graphs-module)"
   ]
  },
  {
   "cell_type": "markdown",
   "metadata": {},
   "source": [
    "#### 3.1.3. Edge verification"
   ]
  },
  {
   "cell_type": "code",
   "execution_count": 11,
   "metadata": {},
   "outputs": [
    {
     "data": {
      "text/plain": [
       "False"
      ]
     },
     "execution_count": 11,
     "metadata": {},
     "output_type": "execute_result"
    }
   ],
   "source": [
    "graphs1[\"list\"].is_edge(1, 2)"
   ]
  },
  {
   "cell_type": "code",
   "execution_count": 12,
   "metadata": {},
   "outputs": [
    {
     "data": {
      "text/plain": [
       "False"
      ]
     },
     "execution_count": 12,
     "metadata": {},
     "output_type": "execute_result"
    }
   ],
   "source": [
    "graphs1[\"matrix\"].is_edge(1, 2)"
   ]
  },
  {
   "cell_type": "code",
   "execution_count": 13,
   "metadata": {},
   "outputs": [
    {
     "data": {
      "text/plain": [
       "True"
      ]
     },
     "execution_count": 13,
     "metadata": {},
     "output_type": "execute_result"
    }
   ],
   "source": [
    "graphs1[\"list\"].is_edge(0, 1)"
   ]
  },
  {
   "cell_type": "code",
   "execution_count": 14,
   "metadata": {},
   "outputs": [
    {
     "data": {
      "text/plain": [
       "True"
      ]
     },
     "execution_count": 14,
     "metadata": {},
     "output_type": "execute_result"
    }
   ],
   "source": [
    "graphs1[\"matrix\"].is_edge(0, 1)"
   ]
  },
  {
   "cell_type": "markdown",
   "metadata": {},
   "source": [
    "[Back to Top](#Graphs:-graphs-module)"
   ]
  },
  {
   "cell_type": "markdown",
   "metadata": {},
   "source": [
    "#### 3.1.4. Properties verification"
   ]
  },
  {
   "cell_type": "code",
   "execution_count": 15,
   "metadata": {},
   "outputs": [
    {
     "data": {
      "text/plain": [
       "9"
      ]
     },
     "execution_count": 15,
     "metadata": {},
     "output_type": "execute_result"
    }
   ],
   "source": [
    "graphs1[\"list\"].number_of_edges"
   ]
  },
  {
   "cell_type": "code",
   "execution_count": 16,
   "metadata": {},
   "outputs": [
    {
     "data": {
      "text/plain": [
       "9"
      ]
     },
     "execution_count": 16,
     "metadata": {},
     "output_type": "execute_result"
    }
   ],
   "source": [
    "graphs1[\"matrix\"].number_of_edges"
   ]
  },
  {
   "cell_type": "code",
   "execution_count": 17,
   "metadata": {},
   "outputs": [
    {
     "data": {
      "text/plain": [
       "10"
      ]
     },
     "execution_count": 17,
     "metadata": {},
     "output_type": "execute_result"
    }
   ],
   "source": [
    "graphs1[\"list\"].number_of_vertices"
   ]
  },
  {
   "cell_type": "code",
   "execution_count": 18,
   "metadata": {},
   "outputs": [
    {
     "data": {
      "text/plain": [
       "10"
      ]
     },
     "execution_count": 18,
     "metadata": {},
     "output_type": "execute_result"
    }
   ],
   "source": [
    "graphs1[\"matrix\"].number_of_vertices"
   ]
  },
  {
   "cell_type": "markdown",
   "metadata": {},
   "source": [
    "[Back to Top](#Graphs:-graphs-module)"
   ]
  },
  {
   "cell_type": "markdown",
   "metadata": {},
   "source": [
    "#### 3.1.5. Obtaining adjacency"
   ]
  },
  {
   "cell_type": "code",
   "execution_count": 19,
   "metadata": {},
   "outputs": [
    {
     "data": {
      "text/plain": [
       "('1', '8', '9')"
      ]
     },
     "execution_count": 19,
     "metadata": {},
     "output_type": "execute_result"
    }
   ],
   "source": [
    "graphs1[\"list\"].adjacency_of(7)"
   ]
  },
  {
   "cell_type": "code",
   "execution_count": 20,
   "metadata": {},
   "outputs": [
    {
     "data": {
      "text/plain": [
       "('1', '8', '9')"
      ]
     },
     "execution_count": 20,
     "metadata": {},
     "output_type": "execute_result"
    }
   ],
   "source": [
    "graphs1[\"matrix\"].adjacency_of(7)"
   ]
  },
  {
   "cell_type": "markdown",
   "metadata": {},
   "source": [
    "[Back to Top](#Graphs:-graphs-module)"
   ]
  },
  {
   "cell_type": "markdown",
   "metadata": {},
   "source": [
    "#### 3.1.6. Obtaining degree"
   ]
  },
  {
   "cell_type": "code",
   "execution_count": 21,
   "metadata": {},
   "outputs": [
    {
     "data": {
      "text/plain": [
       "3"
      ]
     },
     "execution_count": 21,
     "metadata": {},
     "output_type": "execute_result"
    }
   ],
   "source": [
    "graphs1[\"list\"].degree_of(7)"
   ]
  },
  {
   "cell_type": "code",
   "execution_count": 22,
   "metadata": {},
   "outputs": [
    {
     "data": {
      "text/plain": [
       "3"
      ]
     },
     "execution_count": 22,
     "metadata": {},
     "output_type": "execute_result"
    }
   ],
   "source": [
    "graphs1[\"matrix\"].degree_of(7)"
   ]
  },
  {
   "cell_type": "markdown",
   "metadata": {},
   "source": [
    "[Back to Top](#Graphs:-graphs-module)"
   ]
  },
  {
   "cell_type": "markdown",
   "metadata": {},
   "source": [
    "### 3.2. Example 2"
   ]
  },
  {
   "cell_type": "markdown",
   "metadata": {},
   "source": [
    "This example was taken from slide 16. Throughout this example, a **directed** graph shall be created with the following nodes (V) and edges (A) sets:\n",
    "\n",
    "\n",
    "<b>V</b> = {0, 1, 2, 3, 4, 5} \n",
    "\n",
    "<b>A</b> = {(0, 1), (0, 3), (1, 2), (1, 3), (2, 2), (2, 3), (3, 0), (5, 4)}"
   ]
  },
  {
   "cell_type": "code",
   "execution_count": 23,
   "metadata": {},
   "outputs": [],
   "source": [
    "vertices2 = list(range(6))\n",
    "edges2 = ((0, 1), (0, 3), (1, 2), (1, 3), (2, 2), (2, 3), (3, 0), (5, 4))"
   ]
  },
  {
   "cell_type": "markdown",
   "metadata": {},
   "source": [
    "#### 3.2.1. Creation"
   ]
  },
  {
   "cell_type": "code",
   "execution_count": 24,
   "metadata": {},
   "outputs": [],
   "source": [
    "graphs2 = create_graphs(vertices2, edges2, True, False)"
   ]
  },
  {
   "cell_type": "code",
   "execution_count": 25,
   "metadata": {},
   "outputs": [
    {
     "data": {
      "text/plain": [
       "<ListGraph object>\n",
       "0 -> 1, 3\n",
       "1 -> 2, 3\n",
       "2 -> 2, 3\n",
       "3 -> 0\n",
       "4 -> \n",
       "5 -> 4"
      ]
     },
     "execution_count": 25,
     "metadata": {},
     "output_type": "execute_result"
    }
   ],
   "source": [
    "graphs2[\"list\"]"
   ]
  },
  {
   "cell_type": "code",
   "execution_count": 26,
   "metadata": {},
   "outputs": [
    {
     "data": {
      "text/plain": [
       "<MatrixGraph object>\n",
       "   0  1  2  3  4  5 \n",
       "\n",
       "0  0  1  0  1  0  0 \n",
       "1  0  0  1  1  0  0 \n",
       "2  0  0  1  1  0  0 \n",
       "3  1  0  0  0  0  0 \n",
       "4  0  0  0  0  0  0 \n",
       "5  0  0  0  0  1  0 "
      ]
     },
     "execution_count": 26,
     "metadata": {},
     "output_type": "execute_result"
    }
   ],
   "source": [
    "graphs2[\"matrix\"]"
   ]
  },
  {
   "cell_type": "markdown",
   "metadata": {},
   "source": [
    "[Back to Top](#Graphs:-graphs-module)"
   ]
  },
  {
   "cell_type": "markdown",
   "metadata": {},
   "source": [
    "#### 3.2.2. Edge removal"
   ]
  },
  {
   "cell_type": "code",
   "execution_count": 27,
   "metadata": {},
   "outputs": [],
   "source": [
    "graphs2[\"list\"].remove_edge(1, 2)\n",
    "graphs2[\"matrix\"].remove_edge(1, 2)"
   ]
  },
  {
   "cell_type": "code",
   "execution_count": 28,
   "metadata": {},
   "outputs": [
    {
     "data": {
      "text/plain": [
       "<ListGraph object>\n",
       "0 -> 1, 3\n",
       "1 -> 3\n",
       "2 -> 2, 3\n",
       "3 -> 0\n",
       "4 -> \n",
       "5 -> 4"
      ]
     },
     "execution_count": 28,
     "metadata": {},
     "output_type": "execute_result"
    }
   ],
   "source": [
    "graphs2[\"list\"]"
   ]
  },
  {
   "cell_type": "code",
   "execution_count": 29,
   "metadata": {},
   "outputs": [
    {
     "data": {
      "text/plain": [
       "<MatrixGraph object>\n",
       "   0  1  2  3  4  5 \n",
       "\n",
       "0  0  1  0  1  0  0 \n",
       "1  0  0  0  1  0  0 \n",
       "2  0  0  1  1  0  0 \n",
       "3  1  0  0  0  0  0 \n",
       "4  0  0  0  0  0  0 \n",
       "5  0  0  0  0  1  0 "
      ]
     },
     "execution_count": 29,
     "metadata": {},
     "output_type": "execute_result"
    }
   ],
   "source": [
    "graphs2[\"matrix\"]"
   ]
  },
  {
   "cell_type": "markdown",
   "metadata": {},
   "source": [
    "[Back to Top](#Graphs:-graphs-module)"
   ]
  },
  {
   "cell_type": "markdown",
   "metadata": {},
   "source": [
    "#### 3.2.3. Edge verification"
   ]
  },
  {
   "cell_type": "code",
   "execution_count": 30,
   "metadata": {},
   "outputs": [
    {
     "data": {
      "text/plain": [
       "False"
      ]
     },
     "execution_count": 30,
     "metadata": {},
     "output_type": "execute_result"
    }
   ],
   "source": [
    "graphs2[\"list\"].is_edge(1, 2)"
   ]
  },
  {
   "cell_type": "code",
   "execution_count": 31,
   "metadata": {},
   "outputs": [
    {
     "data": {
      "text/plain": [
       "False"
      ]
     },
     "execution_count": 31,
     "metadata": {},
     "output_type": "execute_result"
    }
   ],
   "source": [
    "graphs2[\"matrix\"].is_edge(1, 2)"
   ]
  },
  {
   "cell_type": "code",
   "execution_count": 32,
   "metadata": {},
   "outputs": [
    {
     "data": {
      "text/plain": [
       "True"
      ]
     },
     "execution_count": 32,
     "metadata": {},
     "output_type": "execute_result"
    }
   ],
   "source": [
    "graphs2[\"list\"].is_edge(0, 1)"
   ]
  },
  {
   "cell_type": "code",
   "execution_count": 33,
   "metadata": {},
   "outputs": [
    {
     "data": {
      "text/plain": [
       "True"
      ]
     },
     "execution_count": 33,
     "metadata": {},
     "output_type": "execute_result"
    }
   ],
   "source": [
    "graphs2[\"matrix\"].is_edge(0, 1)"
   ]
  },
  {
   "cell_type": "markdown",
   "metadata": {},
   "source": [
    "[Back to Top](#Graphs:-graphs-module)"
   ]
  },
  {
   "cell_type": "markdown",
   "metadata": {},
   "source": [
    "#### 3.2.4. Properties verification"
   ]
  },
  {
   "cell_type": "code",
   "execution_count": 34,
   "metadata": {},
   "outputs": [
    {
     "data": {
      "text/plain": [
       "7"
      ]
     },
     "execution_count": 34,
     "metadata": {},
     "output_type": "execute_result"
    }
   ],
   "source": [
    "graphs2[\"list\"].number_of_edges"
   ]
  },
  {
   "cell_type": "code",
   "execution_count": 35,
   "metadata": {},
   "outputs": [
    {
     "data": {
      "text/plain": [
       "7"
      ]
     },
     "execution_count": 35,
     "metadata": {},
     "output_type": "execute_result"
    }
   ],
   "source": [
    "graphs2[\"matrix\"].number_of_edges"
   ]
  },
  {
   "cell_type": "code",
   "execution_count": 36,
   "metadata": {},
   "outputs": [
    {
     "data": {
      "text/plain": [
       "6"
      ]
     },
     "execution_count": 36,
     "metadata": {},
     "output_type": "execute_result"
    }
   ],
   "source": [
    "graphs2[\"list\"].number_of_vertices"
   ]
  },
  {
   "cell_type": "code",
   "execution_count": 37,
   "metadata": {},
   "outputs": [
    {
     "data": {
      "text/plain": [
       "6"
      ]
     },
     "execution_count": 37,
     "metadata": {},
     "output_type": "execute_result"
    }
   ],
   "source": [
    "graphs2[\"matrix\"].number_of_vertices"
   ]
  },
  {
   "cell_type": "markdown",
   "metadata": {},
   "source": [
    "[Back to Top](#Graphs:-graphs-module)"
   ]
  },
  {
   "cell_type": "markdown",
   "metadata": {},
   "source": [
    "#### 3.2.5. Obtaining adjacency"
   ]
  },
  {
   "cell_type": "code",
   "execution_count": 38,
   "metadata": {},
   "outputs": [
    {
     "data": {
      "text/plain": [
       "('2', '3')"
      ]
     },
     "execution_count": 38,
     "metadata": {},
     "output_type": "execute_result"
    }
   ],
   "source": [
    "graphs2[\"list\"].adjacency_of(2)"
   ]
  },
  {
   "cell_type": "code",
   "execution_count": 39,
   "metadata": {},
   "outputs": [
    {
     "data": {
      "text/plain": [
       "('2', '3')"
      ]
     },
     "execution_count": 39,
     "metadata": {},
     "output_type": "execute_result"
    }
   ],
   "source": [
    "graphs2[\"matrix\"].adjacency_of(2)"
   ]
  },
  {
   "cell_type": "markdown",
   "metadata": {},
   "source": [
    "[Back to Top](#Graphs:-graphs-module)"
   ]
  },
  {
   "cell_type": "markdown",
   "metadata": {},
   "source": [
    "#### 3.2.6. Obtaining degree"
   ]
  },
  {
   "cell_type": "code",
   "execution_count": 40,
   "metadata": {},
   "outputs": [
    {
     "data": {
      "text/plain": [
       "(1, 2)"
      ]
     },
     "execution_count": 40,
     "metadata": {},
     "output_type": "execute_result"
    }
   ],
   "source": [
    "graphs2[\"list\"].degree_of(2)"
   ]
  },
  {
   "cell_type": "code",
   "execution_count": 41,
   "metadata": {},
   "outputs": [
    {
     "data": {
      "text/plain": [
       "(1, 2)"
      ]
     },
     "execution_count": 41,
     "metadata": {},
     "output_type": "execute_result"
    }
   ],
   "source": [
    "graphs2[\"matrix\"].degree_of(2)"
   ]
  },
  {
   "cell_type": "markdown",
   "metadata": {},
   "source": [
    "[Back to Top](#Graphs:-graphs-module)"
   ]
  },
  {
   "cell_type": "markdown",
   "metadata": {},
   "source": [
    "### 3.3. Example 3"
   ]
  },
  {
   "cell_type": "markdown",
   "metadata": {},
   "source": [
    "This graph was taken from the 11th slide of the graphs slides presentation."
   ]
  },
  {
   "cell_type": "markdown",
   "metadata": {},
   "source": [
    "![](images/graph3.jpg)"
   ]
  },
  {
   "cell_type": "code",
   "execution_count": 42,
   "metadata": {},
   "outputs": [],
   "source": [
    "vertices3 = [\"A\", \"B\", \"C\", \"D\", \"E\", \"F\", \"G\"]\n",
    "edges3 = ((\"A\", \"B\", 7), (\"A\", \"D\", 5), (\"B\", \"C\", 8), (\"B\", \"D\", 9), (\"B\", \"E\", 7), (\"C\", \"E\", 5),\n",
    "         (\"D\", \"E\", 15), (\"D\", \"F\", 6), (\"E\", \"F\", 8), (\"E\", \"G\", 9), (\"F\", \"G\", 11))"
   ]
  },
  {
   "cell_type": "markdown",
   "metadata": {},
   "source": [
    "#### 3.3.1. Creation"
   ]
  },
  {
   "cell_type": "code",
   "execution_count": 43,
   "metadata": {},
   "outputs": [],
   "source": [
    "graphs3 = create_graphs(vertices3, edges3, False, True)"
   ]
  },
  {
   "cell_type": "code",
   "execution_count": 44,
   "metadata": {},
   "outputs": [
    {
     "data": {
      "text/plain": [
       "<ListGraph object>\n",
       "A -> B: 7.0, D: 5.0\n",
       "B -> A: 7.0, C: 8.0, D: 9.0, E: 7.0\n",
       "C -> B: 8.0, E: 5.0\n",
       "D -> A: 5.0, B: 9.0, E: 15.0, F: 6.0\n",
       "E -> B: 7.0, C: 5.0, D: 15.0, F: 8.0, G: 9.0\n",
       "F -> D: 6.0, E: 8.0, G: 11.0\n",
       "G -> E: 9.0, F: 11.0"
      ]
     },
     "execution_count": 44,
     "metadata": {},
     "output_type": "execute_result"
    }
   ],
   "source": [
    "graphs3[\"list\"]"
   ]
  },
  {
   "cell_type": "code",
   "execution_count": 45,
   "metadata": {},
   "outputs": [
    {
     "data": {
      "text/plain": [
       "<MatrixGraph object>\n",
       "      A     B     C     D     E     F     G    \n",
       "\n",
       "A     0.0   7.0   0.0   5.0   0.0   0.0   0.0  \n",
       "B     7.0   0.0   8.0   9.0   7.0   0.0   0.0  \n",
       "C     0.0   8.0   0.0   0.0   5.0   0.0   0.0  \n",
       "D     5.0   9.0   0.0   0.0   15.0  6.0   0.0  \n",
       "E     0.0   7.0   5.0   15.0  0.0   8.0   9.0  \n",
       "F     0.0   0.0   0.0   6.0   8.0   0.0   11.0 \n",
       "G     0.0   0.0   0.0   0.0   9.0   11.0  0.0  "
      ]
     },
     "execution_count": 45,
     "metadata": {},
     "output_type": "execute_result"
    }
   ],
   "source": [
    "graphs3[\"matrix\"]"
   ]
  },
  {
   "cell_type": "markdown",
   "metadata": {},
   "source": [
    "### 3.4. Example 4"
   ]
  },
  {
   "cell_type": "markdown",
   "metadata": {},
   "source": [
    "This graph was taken from the 16th slide of the graphs slides presentation."
   ]
  },
  {
   "cell_type": "markdown",
   "metadata": {},
   "source": [
    "![](images/graph4.jpg)"
   ]
  },
  {
   "cell_type": "code",
   "execution_count": 46,
   "metadata": {},
   "outputs": [],
   "source": [
    "vertices4 = list(range(6))\n",
    "edges4 = ((0, 1), (0, 3), (1, 2), (1, 3), (2, 2), (2, 3), (3, 0), (5, 4))"
   ]
  },
  {
   "cell_type": "markdown",
   "metadata": {},
   "source": [
    "#### 3.4.1. Creation"
   ]
  },
  {
   "cell_type": "code",
   "execution_count": 47,
   "metadata": {},
   "outputs": [],
   "source": [
    "graphs4 = create_graphs(vertices4, edges4, True, False)"
   ]
  },
  {
   "cell_type": "code",
   "execution_count": 50,
   "metadata": {},
   "outputs": [
    {
     "data": {
      "text/plain": [
       "<ListGraph object>\n",
       "0 -> 1, 3\n",
       "1 -> 2, 3\n",
       "2 -> 2, 3\n",
       "3 -> 0\n",
       "4 -> \n",
       "5 -> 4"
      ]
     },
     "execution_count": 50,
     "metadata": {},
     "output_type": "execute_result"
    }
   ],
   "source": [
    "graphs4[\"list\"]"
   ]
  },
  {
   "cell_type": "code",
   "execution_count": 51,
   "metadata": {},
   "outputs": [
    {
     "data": {
      "text/plain": [
       "<MatrixGraph object>\n",
       "   0  1  2  3  4  5 \n",
       "\n",
       "0  0  1  0  1  0  0 \n",
       "1  0  0  1  1  0  0 \n",
       "2  0  0  1  1  0  0 \n",
       "3  1  0  0  0  0  0 \n",
       "4  0  0  0  0  0  0 \n",
       "5  0  0  0  0  1  0 "
      ]
     },
     "execution_count": 51,
     "metadata": {},
     "output_type": "execute_result"
    }
   ],
   "source": [
    "graphs4[\"matrix\"]"
   ]
  },
  {
   "cell_type": "markdown",
   "metadata": {},
   "source": [
    "#### Degree"
   ]
  },
  {
   "cell_type": "code",
   "execution_count": 52,
   "metadata": {},
   "outputs": [
    {
     "data": {
      "text/plain": [
       "(2, 2)"
      ]
     },
     "execution_count": 52,
     "metadata": {},
     "output_type": "execute_result"
    }
   ],
   "source": [
    "graphs4[\"list\"].degree_of(2)"
   ]
  },
  {
   "cell_type": "code",
   "execution_count": 53,
   "metadata": {},
   "outputs": [
    {
     "data": {
      "text/plain": [
       "(2, 2)"
      ]
     },
     "execution_count": 53,
     "metadata": {},
     "output_type": "execute_result"
    }
   ],
   "source": [
    "graphs4[\"matrix\"].degree_of(2)"
   ]
  },
  {
   "cell_type": "markdown",
   "metadata": {},
   "source": [
    "### 3.5. Example 5"
   ]
  },
  {
   "cell_type": "markdown",
   "metadata": {},
   "source": [
    "This graph was taken from the 17th slide of the graphs slides presentation."
   ]
  },
  {
   "cell_type": "markdown",
   "metadata": {},
   "source": [
    "![](images/graph5.jpg)"
   ]
  },
  {
   "cell_type": "code",
   "execution_count": 54,
   "metadata": {},
   "outputs": [],
   "source": [
    "vertices5 = list(range(6))\n",
    "edges5 = ((0, 1), (0, 2), (1, 2), (4, 5))"
   ]
  },
  {
   "cell_type": "markdown",
   "metadata": {},
   "source": [
    "#### 3.5.1. Creation"
   ]
  },
  {
   "cell_type": "code",
   "execution_count": 55,
   "metadata": {},
   "outputs": [],
   "source": [
    "graphs5 = create_graphs(vertices5, edges5, False, False)"
   ]
  },
  {
   "cell_type": "code",
   "execution_count": 56,
   "metadata": {},
   "outputs": [
    {
     "data": {
      "text/plain": [
       "<ListGraph object>\n",
       "0 -> 1, 2\n",
       "1 -> 0, 2\n",
       "2 -> 0, 1\n",
       "3 -> \n",
       "4 -> 5\n",
       "5 -> 4"
      ]
     },
     "execution_count": 56,
     "metadata": {},
     "output_type": "execute_result"
    }
   ],
   "source": [
    "graphs5[\"list\"]"
   ]
  },
  {
   "cell_type": "code",
   "execution_count": 57,
   "metadata": {},
   "outputs": [
    {
     "data": {
      "text/plain": [
       "<MatrixGraph object>\n",
       "   0  1  2  3  4  5 \n",
       "\n",
       "0  0  1  1  0  0  0 \n",
       "1  1  0  1  0  0  0 \n",
       "2  1  1  0  0  0  0 \n",
       "3  0  0  0  0  0  0 \n",
       "4  0  0  0  0  0  1 \n",
       "5  0  0  0  0  1  0 "
      ]
     },
     "execution_count": 57,
     "metadata": {},
     "output_type": "execute_result"
    }
   ],
   "source": [
    "graphs5[\"matrix\"]"
   ]
  },
  {
   "cell_type": "markdown",
   "metadata": {},
   "source": [
    "#### Degree"
   ]
  },
  {
   "cell_type": "code",
   "execution_count": 58,
   "metadata": {},
   "outputs": [
    {
     "data": {
      "text/plain": [
       "0"
      ]
     },
     "execution_count": 58,
     "metadata": {},
     "output_type": "execute_result"
    }
   ],
   "source": [
    "graphs5[\"list\"].degree_of(3)"
   ]
  },
  {
   "cell_type": "code",
   "execution_count": 59,
   "metadata": {},
   "outputs": [
    {
     "data": {
      "text/plain": [
       "0"
      ]
     },
     "execution_count": 59,
     "metadata": {},
     "output_type": "execute_result"
    }
   ],
   "source": [
    "graphs5[\"matrix\"].degree_of(3)"
   ]
  },
  {
   "cell_type": "markdown",
   "metadata": {},
   "source": [
    "### 3.6. Example 6"
   ]
  },
  {
   "cell_type": "markdown",
   "metadata": {},
   "source": [
    "This graph was taken from the 30th slide of the graphs slides presentation."
   ]
  },
  {
   "cell_type": "markdown",
   "metadata": {},
   "source": [
    "![](images/graph6.jpg)"
   ]
  },
  {
   "cell_type": "code",
   "execution_count": 60,
   "metadata": {},
   "outputs": [],
   "source": [
    "vertices6 = [\"A\", \"B\", \"C\", \"D\", \"E\", \"F\"]\n",
    "edges6 = ((\"A\", \"B\", 1), (\"A\", \"D\", 4), (\"B\", \"D\", 7), (\"B\", \"E\", 3), (\"B\", \"F\", 6),\n",
    "          (\"B\", \"C\", 5), (\"C\", \"F\", 9), (\"D\", \"E\", 8), (\"E\", \"F\", 2))"
   ]
  },
  {
   "cell_type": "markdown",
   "metadata": {},
   "source": [
    "#### 3.6.1. Creation"
   ]
  },
  {
   "cell_type": "code",
   "execution_count": 61,
   "metadata": {},
   "outputs": [],
   "source": [
    "graphs6 = create_graphs(vertices6, edges6, False, True)"
   ]
  },
  {
   "cell_type": "code",
   "execution_count": 62,
   "metadata": {},
   "outputs": [
    {
     "data": {
      "text/plain": [
       "<ListGraph object>\n",
       "A -> B: 1.0, D: 4.0\n",
       "B -> A: 1.0, D: 7.0, E: 3.0, F: 6.0, C: 5.0\n",
       "C -> B: 5.0, F: 9.0\n",
       "D -> A: 4.0, B: 7.0, E: 8.0\n",
       "E -> B: 3.0, D: 8.0, F: 2.0\n",
       "F -> B: 6.0, C: 9.0, E: 2.0"
      ]
     },
     "execution_count": 62,
     "metadata": {},
     "output_type": "execute_result"
    }
   ],
   "source": [
    "graphs6[\"list\"]"
   ]
  },
  {
   "cell_type": "code",
   "execution_count": 63,
   "metadata": {},
   "outputs": [
    {
     "data": {
      "text/plain": [
       "<MatrixGraph object>\n",
       "     A    B    C    D    E    F   \n",
       "\n",
       "A    0.0  1.0  0.0  4.0  0.0  0.0 \n",
       "B    1.0  0.0  5.0  7.0  3.0  6.0 \n",
       "C    0.0  5.0  0.0  0.0  0.0  9.0 \n",
       "D    4.0  7.0  0.0  0.0  8.0  0.0 \n",
       "E    0.0  3.0  0.0  8.0  0.0  2.0 \n",
       "F    0.0  6.0  9.0  0.0  2.0  0.0 "
      ]
     },
     "execution_count": 63,
     "metadata": {},
     "output_type": "execute_result"
    }
   ],
   "source": [
    "graphs6[\"matrix\"]"
   ]
  },
  {
   "cell_type": "markdown",
   "metadata": {},
   "source": [
    "### 3.7. Example 7"
   ]
  },
  {
   "cell_type": "markdown",
   "metadata": {},
   "source": [
    "This example was taken directly from the task specifications document, and will be the first graph on which the algorithms shall be tested."
   ]
  },
  {
   "cell_type": "markdown",
   "metadata": {},
   "source": [
    "![](images/graph4.jpg)"
   ]
  },
  {
   "cell_type": "code",
   "execution_count": 64,
   "metadata": {},
   "outputs": [],
   "source": [
    "vertices7 = list(range(6))\n",
    "edges7 = ((0, 1), (0, 4), (1, 2), (1, 4), (2, 3), (3, 1), (4, 3), (5, 0), (5, 4))"
   ]
  },
  {
   "cell_type": "markdown",
   "metadata": {},
   "source": [
    "#### 3.7.1. Creation"
   ]
  },
  {
   "cell_type": "code",
   "execution_count": 65,
   "metadata": {},
   "outputs": [],
   "source": [
    "graphs7 = create_graphs(vertices7, edges7, True, False)"
   ]
  },
  {
   "cell_type": "code",
   "execution_count": 66,
   "metadata": {},
   "outputs": [
    {
     "data": {
      "text/plain": [
       "<ListGraph object>\n",
       "0 -> 1, 4\n",
       "1 -> 2, 4\n",
       "2 -> 3\n",
       "3 -> 1\n",
       "4 -> 3\n",
       "5 -> 0, 4"
      ]
     },
     "execution_count": 66,
     "metadata": {},
     "output_type": "execute_result"
    }
   ],
   "source": [
    "graphs7[\"list\"]"
   ]
  },
  {
   "cell_type": "code",
   "execution_count": 67,
   "metadata": {},
   "outputs": [
    {
     "data": {
      "text/plain": [
       "<MatrixGraph object>\n",
       "   0  1  2  3  4  5 \n",
       "\n",
       "0  0  1  0  0  1  0 \n",
       "1  0  0  1  0  1  0 \n",
       "2  0  0  0  1  0  0 \n",
       "3  0  1  0  0  0  0 \n",
       "4  0  0  0  1  0  0 \n",
       "5  1  0  0  0  1  0 "
      ]
     },
     "execution_count": 67,
     "metadata": {},
     "output_type": "execute_result"
    }
   ],
   "source": [
    "graphs7[\"matrix\"]"
   ]
  },
  {
   "cell_type": "markdown",
   "metadata": {},
   "source": [
    "#### 3.7.2. Depth-first search"
   ]
  },
  {
   "cell_type": "code",
   "execution_count": 68,
   "metadata": {},
   "outputs": [
    {
     "data": {
      "text/plain": [
       "{'0': (0, 9),\n",
       " '1': (1, 8),\n",
       " '2': (2, 5),\n",
       " '3': (3, 4),\n",
       " '4': (6, 7),\n",
       " '5': (10, 11)}"
      ]
     },
     "execution_count": 68,
     "metadata": {},
     "output_type": "execute_result"
    }
   ],
   "source": [
    "graphs7[\"matrix\"].depth_first_search(0)"
   ]
  },
  {
   "cell_type": "code",
   "execution_count": 69,
   "metadata": {},
   "outputs": [
    {
     "data": {
      "text/plain": [
       "{'0': (0, 9),\n",
       " '1': (1, 8),\n",
       " '2': (2, 5),\n",
       " '3': (3, 4),\n",
       " '4': (6, 7),\n",
       " '5': (10, 11)}"
      ]
     },
     "execution_count": 69,
     "metadata": {},
     "output_type": "execute_result"
    }
   ],
   "source": [
    "graphs7[\"list\"].depth_first_search(0)"
   ]
  },
  {
   "cell_type": "markdown",
   "metadata": {},
   "source": [
    "#### 3.7.3. Verifying if it is cyclic"
   ]
  },
  {
   "cell_type": "code",
   "execution_count": 70,
   "metadata": {},
   "outputs": [
    {
     "data": {
      "text/plain": [
       "True"
      ]
     },
     "execution_count": 70,
     "metadata": {},
     "output_type": "execute_result"
    }
   ],
   "source": [
    "graphs7[\"matrix\"].is_cyclic"
   ]
  },
  {
   "cell_type": "code",
   "execution_count": 71,
   "metadata": {},
   "outputs": [
    {
     "data": {
      "text/plain": [
       "True"
      ]
     },
     "execution_count": 71,
     "metadata": {},
     "output_type": "execute_result"
    }
   ],
   "source": [
    "graphs7[\"list\"].is_cyclic"
   ]
  },
  {
   "cell_type": "markdown",
   "metadata": {},
   "source": [
    "#### 3.7.4. Topological sorting"
   ]
  },
  {
   "cell_type": "code",
   "execution_count": 72,
   "metadata": {},
   "outputs": [
    {
     "data": {
      "text/plain": [
       "['5', '0', '1', '4', '2', '3']"
      ]
     },
     "execution_count": 72,
     "metadata": {},
     "output_type": "execute_result"
    }
   ],
   "source": [
    "graphs7[\"list\"].topological_sorting(0)"
   ]
  },
  {
   "cell_type": "code",
   "execution_count": 73,
   "metadata": {},
   "outputs": [
    {
     "data": {
      "text/plain": [
       "['5', '0', '1', '4', '2', '3']"
      ]
     },
     "execution_count": 73,
     "metadata": {},
     "output_type": "execute_result"
    }
   ],
   "source": [
    "graphs7[\"matrix\"].topological_sorting(0)"
   ]
  },
  {
   "cell_type": "markdown",
   "metadata": {},
   "source": [
    "#### 3.7.5. Breadth-first search"
   ]
  },
  {
   "cell_type": "code",
   "execution_count": 74,
   "metadata": {},
   "outputs": [
    {
     "data": {
      "text/plain": [
       "{'0': (0, None),\n",
       " '1': (1, '0'),\n",
       " '2': (2, '1'),\n",
       " '3': (2, '4'),\n",
       " '4': (1, '0'),\n",
       " '5': (3, None)}"
      ]
     },
     "execution_count": 74,
     "metadata": {},
     "output_type": "execute_result"
    }
   ],
   "source": [
    "graphs7[\"list\"].breadth_first_search(0)"
   ]
  },
  {
   "cell_type": "code",
   "execution_count": 75,
   "metadata": {},
   "outputs": [
    {
     "data": {
      "text/plain": [
       "{'0': (0, None),\n",
       " '1': (1, '0'),\n",
       " '2': (2, '1'),\n",
       " '3': (2, '4'),\n",
       " '4': (1, '0'),\n",
       " '5': (3, None)}"
      ]
     },
     "execution_count": 75,
     "metadata": {},
     "output_type": "execute_result"
    }
   ],
   "source": [
    "graphs7[\"matrix\"].breadth_first_search(0)"
   ]
  },
  {
   "cell_type": "markdown",
   "metadata": {},
   "source": [
    "#### 3.7.6. Shortest path"
   ]
  },
  {
   "cell_type": "code",
   "execution_count": 76,
   "metadata": {},
   "outputs": [],
   "source": [
    "graphs7[\"list\"].shortest_path_between(4, 5)"
   ]
  },
  {
   "cell_type": "code",
   "execution_count": 77,
   "metadata": {},
   "outputs": [],
   "source": [
    "graphs7[\"matrix\"].shortest_path_between(4, 5)"
   ]
  },
  {
   "cell_type": "code",
   "execution_count": 78,
   "metadata": {},
   "outputs": [
    {
     "data": {
      "text/plain": [
       "['5', '0', '1', '2']"
      ]
     },
     "execution_count": 78,
     "metadata": {},
     "output_type": "execute_result"
    }
   ],
   "source": [
    "graphs7[\"list\"].shortest_path_between(5, 2)"
   ]
  },
  {
   "cell_type": "code",
   "execution_count": 79,
   "metadata": {},
   "outputs": [
    {
     "data": {
      "text/plain": [
       "['5', '0', '1', '2']"
      ]
     },
     "execution_count": 79,
     "metadata": {},
     "output_type": "execute_result"
    }
   ],
   "source": [
    "graphs7[\"matrix\"].shortest_path_between(5, 2)"
   ]
  },
  {
   "cell_type": "markdown",
   "metadata": {},
   "source": [
    "### 3.8. Example 8"
   ]
  },
  {
   "cell_type": "markdown",
   "metadata": {},
   "source": [
    "This example was taken from the 70th slide of the graphs slides presentation."
   ]
  },
  {
   "cell_type": "markdown",
   "metadata": {},
   "source": [
    "![](images/graph8.jpg)"
   ]
  },
  {
   "cell_type": "code",
   "execution_count": 80,
   "metadata": {},
   "outputs": [],
   "source": [
    "vertices8 = list(range(4))\n",
    "edges8 = ((0, 1), (1, 2), (2, 2), (2, 0), (3, 1))"
   ]
  },
  {
   "cell_type": "markdown",
   "metadata": {},
   "source": [
    "#### 3.8.1. Creation"
   ]
  },
  {
   "cell_type": "code",
   "execution_count": 81,
   "metadata": {},
   "outputs": [],
   "source": [
    "graphs8 = create_graphs(vertices8, edges8, True, False)"
   ]
  },
  {
   "cell_type": "code",
   "execution_count": 82,
   "metadata": {},
   "outputs": [
    {
     "data": {
      "text/plain": [
       "<ListGraph object>\n",
       "0 -> 1\n",
       "1 -> 2\n",
       "2 -> 2, 0\n",
       "3 -> 1"
      ]
     },
     "execution_count": 82,
     "metadata": {},
     "output_type": "execute_result"
    }
   ],
   "source": [
    "graphs8[\"list\"]"
   ]
  },
  {
   "cell_type": "code",
   "execution_count": 83,
   "metadata": {},
   "outputs": [
    {
     "data": {
      "text/plain": [
       "<MatrixGraph object>\n",
       "   0  1  2  3 \n",
       "\n",
       "0  0  1  0  0 \n",
       "1  0  0  1  0 \n",
       "2  1  0  1  0 \n",
       "3  0  1  0  0 "
      ]
     },
     "execution_count": 83,
     "metadata": {},
     "output_type": "execute_result"
    }
   ],
   "source": [
    "graphs8[\"matrix\"]"
   ]
  },
  {
   "cell_type": "markdown",
   "metadata": {},
   "source": [
    "#### Depth-first search"
   ]
  },
  {
   "cell_type": "code",
   "execution_count": 84,
   "metadata": {},
   "outputs": [
    {
     "data": {
      "text/plain": [
       "{'0': (0, 5), '1': (1, 4), '2': (2, 3), '3': (6, 7)}"
      ]
     },
     "execution_count": 84,
     "metadata": {},
     "output_type": "execute_result"
    }
   ],
   "source": [
    "graphs8[\"list\"].depth_first_search(0)"
   ]
  },
  {
   "cell_type": "code",
   "execution_count": 85,
   "metadata": {},
   "outputs": [
    {
     "data": {
      "text/plain": [
       "{'0': (0, 5), '1': (1, 4), '2': (2, 3), '3': (6, 7)}"
      ]
     },
     "execution_count": 85,
     "metadata": {},
     "output_type": "execute_result"
    }
   ],
   "source": [
    "graphs8[\"matrix\"].depth_first_search(0)"
   ]
  },
  {
   "cell_type": "markdown",
   "metadata": {},
   "source": [
    "### 3.9. Example 9"
   ]
  },
  {
   "cell_type": "markdown",
   "metadata": {},
   "source": [
    "This example was taken from the 79th slide of the graphs slides presentation."
   ]
  },
  {
   "cell_type": "markdown",
   "metadata": {},
   "source": [
    "![](images/graph9.jpg)"
   ]
  },
  {
   "cell_type": "code",
   "execution_count": 86,
   "metadata": {},
   "outputs": [],
   "source": [
    "vertices9 = [\"a\", \"b\", \"c\", \"d\", \"e\", \"f\", \"g\", \"h\"]\n",
    "edges9 = ((\"a\", \"b\"), (\"a\", \"c\"), (\"a\", \"d\"), (\"c\", \"b\"),\n",
    "          (\"c\", \"e\"), (\"c\", \"g\"), (\"d\", \"a\"), (\"d\", \"e\"),\n",
    "          (\"e\", \"h\"), (\"f\", \"b\"), (\"g\", \"d\"), (\"g\", \"f\"), (\"g\", \"h\"))"
   ]
  },
  {
   "cell_type": "markdown",
   "metadata": {},
   "source": [
    "#### 3.9.1 Creation"
   ]
  },
  {
   "cell_type": "code",
   "execution_count": 87,
   "metadata": {},
   "outputs": [],
   "source": [
    "graphs9 = create_graphs(vertices9, edges9, True, False)"
   ]
  },
  {
   "cell_type": "code",
   "execution_count": 88,
   "metadata": {},
   "outputs": [
    {
     "data": {
      "text/plain": [
       "<ListGraph object>\n",
       "a -> b, c, d\n",
       "b -> \n",
       "c -> b, e, g\n",
       "d -> a, e\n",
       "e -> h\n",
       "f -> b\n",
       "g -> d, f, h\n",
       "h -> "
      ]
     },
     "execution_count": 88,
     "metadata": {},
     "output_type": "execute_result"
    }
   ],
   "source": [
    "graphs9[\"list\"]"
   ]
  },
  {
   "cell_type": "code",
   "execution_count": 89,
   "metadata": {},
   "outputs": [
    {
     "data": {
      "text/plain": [
       "<MatrixGraph object>\n",
       "   a  b  c  d  e  f  g  h \n",
       "\n",
       "a  0  1  1  1  0  0  0  0 \n",
       "b  0  0  0  0  0  0  0  0 \n",
       "c  0  1  0  0  1  0  1  0 \n",
       "d  1  0  0  0  1  0  0  0 \n",
       "e  0  0  0  0  0  0  0  1 \n",
       "f  0  1  0  0  0  0  0  0 \n",
       "g  0  0  0  1  0  1  0  1 \n",
       "h  0  0  0  0  0  0  0  0 "
      ]
     },
     "execution_count": 89,
     "metadata": {},
     "output_type": "execute_result"
    }
   ],
   "source": [
    "graphs9[\"matrix\"]"
   ]
  },
  {
   "cell_type": "markdown",
   "metadata": {},
   "source": [
    "#### 3.9.2. Depth-first search"
   ]
  },
  {
   "cell_type": "code",
   "execution_count": 90,
   "metadata": {},
   "outputs": [
    {
     "data": {
      "text/plain": [
       "{'a': (9, 10),\n",
       " 'b': (1, 2),\n",
       " 'c': (0, 15),\n",
       " 'd': (8, 11),\n",
       " 'e': (3, 6),\n",
       " 'f': (12, 13),\n",
       " 'g': (7, 14),\n",
       " 'h': (4, 5)}"
      ]
     },
     "execution_count": 90,
     "metadata": {},
     "output_type": "execute_result"
    }
   ],
   "source": [
    "graphs9[\"list\"].depth_first_search(\"c\")"
   ]
  },
  {
   "cell_type": "code",
   "execution_count": 91,
   "metadata": {},
   "outputs": [
    {
     "data": {
      "text/plain": [
       "{'a': (9, 10),\n",
       " 'b': (1, 2),\n",
       " 'c': (0, 15),\n",
       " 'd': (8, 11),\n",
       " 'e': (3, 6),\n",
       " 'f': (12, 13),\n",
       " 'g': (7, 14),\n",
       " 'h': (4, 5)}"
      ]
     },
     "execution_count": 91,
     "metadata": {},
     "output_type": "execute_result"
    }
   ],
   "source": [
    "graphs9[\"matrix\"].depth_first_search(\"c\")"
   ]
  },
  {
   "cell_type": "markdown",
   "metadata": {},
   "source": [
    "### 3.10. Example 10"
   ]
  },
  {
   "cell_type": "markdown",
   "metadata": {},
   "source": [
    "This example was taken from the 84th slide of the graphs slides presentation."
   ]
  },
  {
   "cell_type": "markdown",
   "metadata": {},
   "source": [
    "![](images/graph10.jpg)"
   ]
  },
  {
   "cell_type": "code",
   "execution_count": 92,
   "metadata": {},
   "outputs": [],
   "source": [
    "vertices10 = list(range(6))\n",
    "edges10 = ((0, 1), (0, 3), (1, 2), (1, 3), (2, 3), (4, 5))"
   ]
  },
  {
   "cell_type": "markdown",
   "metadata": {},
   "source": [
    "#### 3.10.1. Creation"
   ]
  },
  {
   "cell_type": "code",
   "execution_count": 93,
   "metadata": {},
   "outputs": [],
   "source": [
    "graphs10 = create_graphs(vertices10, edges10, False, False)"
   ]
  },
  {
   "cell_type": "code",
   "execution_count": 94,
   "metadata": {},
   "outputs": [
    {
     "data": {
      "text/plain": [
       "<ListGraph object>\n",
       "0 -> 1, 3\n",
       "1 -> 0, 2, 3\n",
       "2 -> 1, 3\n",
       "3 -> 0, 1, 2\n",
       "4 -> 5\n",
       "5 -> 4"
      ]
     },
     "execution_count": 94,
     "metadata": {},
     "output_type": "execute_result"
    }
   ],
   "source": [
    "graphs10[\"list\"]"
   ]
  },
  {
   "cell_type": "code",
   "execution_count": 95,
   "metadata": {},
   "outputs": [
    {
     "data": {
      "text/plain": [
       "<MatrixGraph object>\n",
       "   0  1  2  3  4  5 \n",
       "\n",
       "0  0  1  0  1  0  0 \n",
       "1  1  0  1  1  0  0 \n",
       "2  0  1  0  1  0  0 \n",
       "3  1  1  1  0  0  0 \n",
       "4  0  0  0  0  0  1 \n",
       "5  0  0  0  0  1  0 "
      ]
     },
     "execution_count": 95,
     "metadata": {},
     "output_type": "execute_result"
    }
   ],
   "source": [
    "graphs10[\"matrix\"]"
   ]
  },
  {
   "cell_type": "markdown",
   "metadata": {},
   "source": [
    "#### Breadth-first search"
   ]
  },
  {
   "cell_type": "code",
   "execution_count": 96,
   "metadata": {},
   "outputs": [
    {
     "data": {
      "text/plain": [
       "{'0': (0, None),\n",
       " '1': (1, '0'),\n",
       " '2': (2, '1'),\n",
       " '3': (1, '0'),\n",
       " '4': (3, None),\n",
       " '5': (4, '4')}"
      ]
     },
     "execution_count": 96,
     "metadata": {},
     "output_type": "execute_result"
    }
   ],
   "source": [
    "graphs10[\"list\"].breadth_first_search(0)"
   ]
  }
 ],
 "metadata": {
  "kernelspec": {
   "display_name": "Python 3",
   "language": "python",
   "name": "python3"
  },
  "language_info": {
   "codemirror_mode": {
    "name": "ipython",
    "version": 3
   },
   "file_extension": ".py",
   "mimetype": "text/x-python",
   "name": "python",
   "nbconvert_exporter": "python",
   "pygments_lexer": "ipython3",
   "version": "3.7.3"
  }
 },
 "nbformat": 4,
 "nbformat_minor": 4
}
