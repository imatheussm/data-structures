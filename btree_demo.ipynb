{
 "cells": [
  {
   "cell_type": "markdown",
   "metadata": {},
   "source": [
    "# B-Trees: `btree` module"
   ]
  },
  {
   "cell_type": "markdown",
   "metadata": {},
   "source": [
    "**A demonstration notebook for the `btree` module**"
   ]
  },
  {
   "cell_type": "markdown",
   "metadata": {},
   "source": [
    "This is a demonstration notebook for the first deliverable of the discipline **Algorithms Project II**, lectured by **Professor Reginaldo Cordeiro dos Santos Filho** at the **Federal University of Pará (UFPA)**."
   ]
  },
  {
   "cell_type": "markdown",
   "metadata": {},
   "source": [
    "## Goals"
   ]
  },
  {
   "cell_type": "markdown",
   "metadata": {},
   "source": [
    "According to the deliverable specification document, the goals to be met are as follows:\n",
    "\n",
    "1. The source-code shall be presented to the Professor.\n",
    "2. The program shall build a B-Tree of degree m chosen by the Professor.\n",
    "3. The group will be asked to insert some register keys into the B-Tree.\n",
    "    - The program shall treat the attempt of inserting repeated keys.\n",
    "4. The group will be asked to remove some register keys of the B-Tree.\n",
    "    - The program shall treat the attempt of removing an inexistent key.\n",
    "5. The group will be asked to search for some register keys in the B-Tree.\n",
    "    - The result returned shall be: True (found) or False (not found)."
   ]
  },
  {
   "cell_type": "markdown",
   "metadata": {},
   "source": [
    "## Requirements"
   ]
  },
  {
   "cell_type": "code",
   "execution_count": 1,
   "metadata": {},
   "outputs": [],
   "source": [
    "from os import getcwd\n",
    "from sys import path as sys_path\n",
    "from random import shuffle\n",
    "\n",
    "sys_path.append(getcwd())\n",
    "from btree import *"
   ]
  },
  {
   "cell_type": "markdown",
   "metadata": {},
   "source": [
    "## Example 1"
   ]
  },
  {
   "cell_type": "markdown",
   "metadata": {},
   "source": [
    "This example was taken straight from the Professor's presentation slides about B-Trees. Throughout this example, the following sequence will be inserted into a `BTree` object:\n",
    "\n",
    "50, 20, 30, 37, 42, 47, 41, 60, 31, 32, 43, 44, 61 and 62."
   ]
  },
  {
   "cell_type": "markdown",
   "metadata": {},
   "source": [
    "### Creating a `BTree` object of degree `2`"
   ]
  },
  {
   "cell_type": "code",
   "execution_count": 2,
   "metadata": {},
   "outputs": [],
   "source": [
    "tree = BTree(2)"
   ]
  },
  {
   "cell_type": "code",
   "execution_count": 3,
   "metadata": {},
   "outputs": [
    {
     "data": {
      "text/plain": [
       "<btree.BTree.BTree object at 0x0000023C14103860>\n",
       "[]"
      ]
     },
     "execution_count": 3,
     "metadata": {},
     "output_type": "execute_result"
    }
   ],
   "source": [
    "tree"
   ]
  },
  {
   "cell_type": "markdown",
   "metadata": {},
   "source": [
    "### Insertion Examples"
   ]
  },
  {
   "cell_type": "markdown",
   "metadata": {},
   "source": [
    "#### Inserting `50`, `20`, `30` and `37`"
   ]
  },
  {
   "cell_type": "code",
   "execution_count": 4,
   "metadata": {},
   "outputs": [],
   "source": [
    "tree.insert(50,20,30,37)"
   ]
  },
  {
   "cell_type": "code",
   "execution_count": 5,
   "metadata": {},
   "outputs": [
    {
     "data": {
      "text/plain": [
       "<btree.BTree.BTree object at 0x0000023C14103860>\n",
       "[20, 30, 37, 50]"
      ]
     },
     "execution_count": 5,
     "metadata": {},
     "output_type": "execute_result"
    }
   ],
   "source": [
    "tree"
   ]
  },
  {
   "cell_type": "markdown",
   "metadata": {},
   "source": [
    "#### Inserting `42`"
   ]
  },
  {
   "cell_type": "markdown",
   "metadata": {},
   "source": [
    "This insertion will cause the creation of a new page."
   ]
  },
  {
   "cell_type": "code",
   "execution_count": 6,
   "metadata": {},
   "outputs": [],
   "source": [
    "tree.insert(42)"
   ]
  },
  {
   "cell_type": "code",
   "execution_count": 7,
   "metadata": {},
   "outputs": [
    {
     "data": {
      "text/plain": [
       "<btree.BTree.BTree object at 0x0000023C14103860>\n",
       "      [37]      \n",
       "[20, 30] [42, 50]"
      ]
     },
     "execution_count": 7,
     "metadata": {},
     "output_type": "execute_result"
    }
   ],
   "source": [
    "tree"
   ]
  },
  {
   "cell_type": "markdown",
   "metadata": {},
   "source": [
    "#### Inserting `47` and `41`"
   ]
  },
  {
   "cell_type": "code",
   "execution_count": 8,
   "metadata": {},
   "outputs": [],
   "source": [
    "tree.insert(47,41)"
   ]
  },
  {
   "cell_type": "code",
   "execution_count": 9,
   "metadata": {},
   "outputs": [
    {
     "data": {
      "text/plain": [
       "<btree.BTree.BTree object at 0x0000023C14103860>\n",
       "          [37]          \n",
       "[20, 30] [41, 42, 47, 50]"
      ]
     },
     "execution_count": 9,
     "metadata": {},
     "output_type": "execute_result"
    }
   ],
   "source": [
    "tree"
   ]
  },
  {
   "cell_type": "markdown",
   "metadata": {},
   "source": [
    "#### Inserting `60`"
   ]
  },
  {
   "cell_type": "code",
   "execution_count": 10,
   "metadata": {},
   "outputs": [],
   "source": [
    "tree.insert(60)"
   ]
  },
  {
   "cell_type": "code",
   "execution_count": 11,
   "metadata": {},
   "outputs": [
    {
     "data": {
      "text/plain": [
       "<btree.BTree.BTree object at 0x0000023C14103860>\n",
       "         [37, 47]         \n",
       "[20, 30] [41, 42] [50, 60]"
      ]
     },
     "execution_count": 11,
     "metadata": {},
     "output_type": "execute_result"
    }
   ],
   "source": [
    "tree"
   ]
  },
  {
   "cell_type": "markdown",
   "metadata": {},
   "source": [
    "#### Inserting `31`, `32`, `43`, `44`, `61` and `62`"
   ]
  },
  {
   "cell_type": "code",
   "execution_count": 12,
   "metadata": {},
   "outputs": [],
   "source": [
    "tree.insert([31,32,43,44,61,62])"
   ]
  },
  {
   "cell_type": "code",
   "execution_count": 13,
   "metadata": {},
   "outputs": [
    {
     "data": {
      "text/plain": [
       "<btree.BTree.BTree object at 0x0000023C14103860>\n",
       "                     [37, 47]                     \n",
       "[20, 30, 31, 32] [41, 42, 43, 44] [50, 60, 61, 62]"
      ]
     },
     "execution_count": 13,
     "metadata": {},
     "output_type": "execute_result"
    }
   ],
   "source": [
    "tree"
   ]
  },
  {
   "cell_type": "markdown",
   "metadata": {},
   "source": [
    "#### Inserting `33` and `45`"
   ]
  },
  {
   "cell_type": "code",
   "execution_count": 14,
   "metadata": {},
   "outputs": [],
   "source": [
    "tree.insert(33)"
   ]
  },
  {
   "cell_type": "code",
   "execution_count": 15,
   "metadata": {},
   "outputs": [
    {
     "data": {
      "text/plain": [
       "<btree.BTree.BTree object at 0x0000023C14103860>\n",
       "                   [31, 37, 47]                   \n",
       "[20, 30] [32, 33] [41, 42, 43, 44] [50, 60, 61, 62]"
      ]
     },
     "execution_count": 15,
     "metadata": {},
     "output_type": "execute_result"
    }
   ],
   "source": [
    "tree"
   ]
  },
  {
   "cell_type": "code",
   "execution_count": 16,
   "metadata": {},
   "outputs": [],
   "source": [
    "tree.insert(45)"
   ]
  },
  {
   "cell_type": "code",
   "execution_count": 17,
   "metadata": {},
   "outputs": [
    {
     "data": {
      "text/plain": [
       "<btree.BTree.BTree object at 0x0000023C14103860>\n",
       "                  [31, 37, 43, 47]                  \n",
       "[20, 30] [32, 33] [41, 42] [44, 45] [50, 60, 61, 62]"
      ]
     },
     "execution_count": 17,
     "metadata": {},
     "output_type": "execute_result"
    }
   ],
   "source": [
    "tree"
   ]
  },
  {
   "cell_type": "markdown",
   "metadata": {},
   "source": [
    "#### Inserting `63`"
   ]
  },
  {
   "cell_type": "code",
   "execution_count": 18,
   "metadata": {},
   "outputs": [],
   "source": [
    "tree.insert(63)"
   ]
  },
  {
   "cell_type": "code",
   "execution_count": 19,
   "metadata": {},
   "outputs": [
    {
     "data": {
      "text/plain": [
       "<btree.BTree.BTree object at 0x0000023C14103860>\n",
       "                        [43]                        \n",
       "            [31, 37]            [47, 61]            \n",
       "[20, 30] [32, 33] [41, 42] [44, 45] [50, 60] [62, 63]"
      ]
     },
     "execution_count": 19,
     "metadata": {},
     "output_type": "execute_result"
    }
   ],
   "source": [
    "tree"
   ]
  },
  {
   "cell_type": "markdown",
   "metadata": {},
   "source": [
    "### Removal Examples"
   ]
  },
  {
   "cell_type": "code",
   "execution_count": 20,
   "metadata": {},
   "outputs": [],
   "source": [
    "tree = BTree(2, [50, 20, 30, 37, 42, 47, 41, 60, 31, 32, 43, 44, 61, 62, 33, 45, 63, 38, 40])"
   ]
  },
  {
   "cell_type": "code",
   "execution_count": 21,
   "metadata": {},
   "outputs": [
    {
     "data": {
      "text/plain": [
       "<btree.BTree.BTree object at 0x0000023C14169278>\n",
       "                            [43]                            \n",
       "              [31, 37]              [47, 61]              \n",
       "[20, 30] [32, 33] [38, 40, 41, 42] [44, 45] [50, 60] [62, 63]"
      ]
     },
     "execution_count": 21,
     "metadata": {},
     "output_type": "execute_result"
    }
   ],
   "source": [
    "tree"
   ]
  },
  {
   "cell_type": "markdown",
   "metadata": {},
   "source": [
    "#### Case 1: removing `38`"
   ]
  },
  {
   "cell_type": "markdown",
   "metadata": {},
   "source": [
    "Since 38 is in a leaf page which has more than the minimum number of keys (which, in this case, is 2), the number can be removed without further treatment."
   ]
  },
  {
   "cell_type": "code",
   "execution_count": 22,
   "metadata": {},
   "outputs": [],
   "source": [
    "tree.remove(38)"
   ]
  },
  {
   "cell_type": "code",
   "execution_count": 23,
   "metadata": {},
   "outputs": [
    {
     "data": {
      "text/plain": [
       "<btree.BTree.BTree object at 0x0000023C14169278>\n",
       "                          [43]                          \n",
       "             [31, 37]             [47, 61]             \n",
       "[20, 30] [32, 33] [40, 41, 42] [44, 45] [50, 60] [62, 63]"
      ]
     },
     "execution_count": 23,
     "metadata": {},
     "output_type": "execute_result"
    }
   ],
   "source": [
    "tree"
   ]
  },
  {
   "cell_type": "markdown",
   "metadata": {},
   "source": [
    "#### Case 2: removing `43`"
   ]
  },
  {
   "cell_type": "markdown",
   "metadata": {},
   "source": [
    "Given that 43 is not in a leaf page (in fact, quite the opposite), the element has to be replaced by its predecessor or sucessor. The implementation of this B-Tree verifies both sides and obtains an element of the leaf page that has more elements – in this case, `43` will be replaced with `42`."
   ]
  },
  {
   "cell_type": "code",
   "execution_count": 24,
   "metadata": {},
   "outputs": [],
   "source": [
    "tree.remove(43)"
   ]
  },
  {
   "cell_type": "code",
   "execution_count": 25,
   "metadata": {},
   "outputs": [
    {
     "data": {
      "text/plain": [
       "<btree.BTree.BTree object at 0x0000023C14169278>\n",
       "                        [42]                        \n",
       "            [31, 37]            [47, 61]            \n",
       "[20, 30] [32, 33] [40, 41] [44, 45] [50, 60] [62, 63]"
      ]
     },
     "execution_count": 25,
     "metadata": {},
     "output_type": "execute_result"
    }
   ],
   "source": [
    "tree"
   ]
  },
  {
   "cell_type": "markdown",
   "metadata": {},
   "source": [
    "#### Case 3: removing `33` instead of `43`"
   ]
  },
  {
   "cell_type": "markdown",
   "metadata": {},
   "source": [
    "In a B-Tree, all pages must have a minimum amount of keys, which corresponds to the degree of the B-Tree. In these examples, the degree is 2, which means that the minimum amount of keys is 2 and the maximum is 4. Naturally, the root page is the only exception to this rule.\n",
    "\n",
    "Therefore, when a page that has only the minimum amount of keys gets a key removed of itself, it violates the rule of the B-Tree, and measures must be taken in order to maintain the rule in force.\n",
    "\n",
    "Before attempting to merge any pages (which is a more drastic, computationally expensive move), the B-Tree must verify the adjacent pages for the possibility of borrowing an element from a page that has more than the minimum amount of keys.\n",
    "\n",
    "In this case, `33` is being removed from `Page` object `[ 32 | 33 ]`. Upon detection of rule violation, the `BTree` object will ascertain the possibility of borrowin an element. This possibility, of course, exists, since `Page` object `[ 40 | 41 | 42 ]` has an element to spare."
   ]
  },
  {
   "cell_type": "code",
   "execution_count": 26,
   "metadata": {},
   "outputs": [],
   "source": [
    "tree = BTree(2, [50, 20, 30, 37, 42, 47, 41, 60, 31, 32, 43, 44, 61, 62, 33, 45, 63, 40])"
   ]
  },
  {
   "cell_type": "code",
   "execution_count": 27,
   "metadata": {},
   "outputs": [
    {
     "data": {
      "text/plain": [
       "<btree.BTree.BTree object at 0x0000023C14169860>\n",
       "                          [43]                          \n",
       "             [31, 37]             [47, 61]             \n",
       "[20, 30] [32, 33] [40, 41, 42] [44, 45] [50, 60] [62, 63]"
      ]
     },
     "execution_count": 27,
     "metadata": {},
     "output_type": "execute_result"
    }
   ],
   "source": [
    "tree"
   ]
  },
  {
   "cell_type": "code",
   "execution_count": 28,
   "metadata": {},
   "outputs": [],
   "source": [
    "tree.remove(33)"
   ]
  },
  {
   "cell_type": "code",
   "execution_count": 29,
   "metadata": {},
   "outputs": [
    {
     "data": {
      "text/plain": [
       "<btree.BTree.BTree object at 0x0000023C14169860>\n",
       "                        [43]                        \n",
       "            [31, 40]            [47, 61]            \n",
       "[20, 30] [32, 37] [41, 42] [44, 45] [50, 60] [62, 63]"
      ]
     },
     "execution_count": 29,
     "metadata": {},
     "output_type": "execute_result"
    }
   ],
   "source": [
    "tree"
   ]
  },
  {
   "cell_type": "markdown",
   "metadata": {},
   "source": [
    "#### Case 4: removing `41`"
   ]
  },
  {
   "cell_type": "markdown",
   "metadata": {},
   "source": [
    "In this case, since no `Page` object is able to borrow an element, the `Page` object has to be \"demoted\", or merged with an adjacent page (and taking the middle element of the parent page along).\n",
    "\n",
    "This can unleash a chain-effect up to the root `Page` object, as it happens with this example."
   ]
  },
  {
   "cell_type": "code",
   "execution_count": 30,
   "metadata": {},
   "outputs": [],
   "source": [
    "tree.remove(41)"
   ]
  },
  {
   "cell_type": "code",
   "execution_count": 31,
   "metadata": {},
   "outputs": [
    {
     "data": {
      "text/plain": [
       "<btree.BTree.BTree object at 0x0000023C14169860>\n",
       "                  [31, 43, 47, 61]                  \n",
       "[20, 30] [32, 37, 40, 42] [44, 45] [50, 60] [62, 63]"
      ]
     },
     "execution_count": 31,
     "metadata": {},
     "output_type": "execute_result"
    }
   ],
   "source": [
    "tree"
   ]
  },
  {
   "cell_type": "markdown",
   "metadata": {},
   "source": [
    "## Example 2"
   ]
  },
  {
   "cell_type": "markdown",
   "metadata": {},
   "source": [
    "This example was taken straight from the Professor's presentation slides about B-Trees – to be more specific, in the exercise section. Throughout this example, the following sequence will be inserted into a `BTree` object:\n",
    "\n",
    "10, 20, 30, 40, 50, 3, 4, 11, 8, 9, 13, 25, 28, 17, 33, 36, 43, 45, 52, 55 and 48."
   ]
  },
  {
   "cell_type": "code",
   "execution_count": 32,
   "metadata": {},
   "outputs": [],
   "source": [
    "tree = BTree(2, [10, 20, 30, 40, 50, 3, 4, 11, 8, 9, 13, 25, 28, 17, 33, 36, 43, 45, 52, 55, 48])"
   ]
  },
  {
   "cell_type": "code",
   "execution_count": 33,
   "metadata": {},
   "outputs": [
    {
     "data": {
      "text/plain": [
       "<btree.BTree.BTree object at 0x0000023C14169E80>\n",
       "                              [30]                              \n",
       "                [10, 20]                [40, 50]                \n",
       "[3, 4, 8, 9] [11, 13, 17] [25, 28] [33, 36] [43, 45, 48] [52, 55]"
      ]
     },
     "execution_count": 33,
     "metadata": {},
     "output_type": "execute_result"
    }
   ],
   "source": [
    "tree"
   ]
  },
  {
   "cell_type": "markdown",
   "metadata": {},
   "source": [
    "### Partial B-Tree 1: remove `45`, `30` and `28`"
   ]
  },
  {
   "cell_type": "code",
   "execution_count": 34,
   "metadata": {},
   "outputs": [],
   "source": [
    "tree.remove(45, 30, 28)"
   ]
  },
  {
   "cell_type": "code",
   "execution_count": 35,
   "metadata": {},
   "outputs": [
    {
     "data": {
      "text/plain": [
       "<btree.BTree.BTree object at 0x0000023C14169E80>\n",
       "                    [10, 25, 40, 50]                    \n",
       "[3, 4, 8, 9] [11, 13, 17, 20] [33, 36] [43, 48] [52, 55]"
      ]
     },
     "execution_count": 35,
     "metadata": {},
     "output_type": "execute_result"
    }
   ],
   "source": [
    "tree"
   ]
  },
  {
   "cell_type": "markdown",
   "metadata": {},
   "source": [
    "### Partial B-Tree 2: remove `50`, `8`, `10`, `4`, `20`, `40`, `55`, `17`, `33`, `11` and `36`"
   ]
  },
  {
   "cell_type": "code",
   "execution_count": 36,
   "metadata": {},
   "outputs": [],
   "source": [
    "tree.remove(50, 8, 10, 4, 20, 40, 55, 17, 33, 11, 36)"
   ]
  },
  {
   "cell_type": "code",
   "execution_count": 37,
   "metadata": {},
   "outputs": [
    {
     "data": {
      "text/plain": [
       "<btree.BTree.BTree object at 0x0000023C14169E80>\n",
       "         [43]         \n",
       "[3, 9, 13, 25] [48, 52]"
      ]
     },
     "execution_count": 37,
     "metadata": {},
     "output_type": "execute_result"
    }
   ],
   "source": [
    "tree"
   ]
  },
  {
   "cell_type": "markdown",
   "metadata": {},
   "source": [
    "### Partial B-Tree 3: remove `3`, `9` and `52`"
   ]
  },
  {
   "cell_type": "code",
   "execution_count": 38,
   "metadata": {},
   "outputs": [],
   "source": [
    "tree.remove(3,9,52)"
   ]
  },
  {
   "cell_type": "code",
   "execution_count": 39,
   "metadata": {},
   "outputs": [
    {
     "data": {
      "text/plain": [
       "<btree.BTree.BTree object at 0x0000023C14169E80>\n",
       "[13, 25, 43, 48]"
      ]
     },
     "execution_count": 39,
     "metadata": {},
     "output_type": "execute_result"
    }
   ],
   "source": [
    "tree"
   ]
  },
  {
   "cell_type": "markdown",
   "metadata": {},
   "source": [
    "## Testing"
   ]
  },
  {
   "cell_type": "markdown",
   "metadata": {},
   "source": [
    "This testing code aims to exhaustively test the `BTree` and `Page` classes. It was extremely useful to catch bugs and areas for improvement throughout the code, and it is a powerful representation of the capabilities of this implementation.\n",
    "\n",
    "It creates `BTree` objects of degree 1 to 10, adding a random sequence of 1000 numbers, finding another sequence of the same 1000 numbers and removing the same 1000 numbers in another order. During the removal, after the removal of each element, the remaining ones are searched for again, to make sure that no other element has been mistakenly removed of the `BTree` object. If any of these steps go wrong, an exception will be raised."
   ]
  },
  {
   "cell_type": "markdown",
   "metadata": {},
   "source": [
    "### Test settings"
   ]
  },
  {
   "cell_type": "code",
   "execution_count": 40,
   "metadata": {},
   "outputs": [],
   "source": [
    "min_degree = 1\n",
    "max_degree = 10\n",
    "number_of_elements = 1000"
   ]
  },
  {
   "cell_type": "code",
   "execution_count": 41,
   "metadata": {},
   "outputs": [
    {
     "name": "stdout",
     "output_type": "stream",
     "text": [
      "Current degree: 1...\n",
      "Current degree: 2...\n",
      "Current degree: 3...\n",
      "Current degree: 4...\n",
      "Current degree: 5...\n",
      "Current degree: 6...\n",
      "Current degree: 7...\n",
      "Current degree: 8...\n",
      "Current degree: 9...\n",
      "Current degree: 10...\n"
     ]
    }
   ],
   "source": [
    "for degree in range(min_degree, max_degree + 1):\n",
    "    print(\"Current degree: {}...\".format(degree))\n",
    "    to_add = list(range(1, number_of_elements))\n",
    "    to_find = list(range(1, number_of_elements))\n",
    "    to_remove = list(range(1, number_of_elements))\n",
    "    shuffle(to_add)\n",
    "    shuffle(to_find)\n",
    "    shuffle(to_remove)\n",
    "\n",
    "    tree = BTree(degree, to_add)\n",
    "\n",
    "    for i in to_find:\n",
    "        in_tree, page_pointer, page_index = tree.find(i)\n",
    "        if not in_tree:\n",
    "            raise Exception(\"{} not found!\".format(i))\n",
    "\n",
    "    for i in range(len(to_remove)):\n",
    "        if True:\n",
    "            tree.remove(to_remove[i])\n",
    "            for i in to_remove[i + 1 :]:\n",
    "                in_tree, page_pointer, page_index = tree.find(i)\n",
    "                if not in_tree:\n",
    "                    raise Exception(\"{} not found!\".format(i))\n",
    "        else:\n",
    "            break"
   ]
  }
 ],
 "metadata": {
  "kernelspec": {
   "display_name": "Python [conda env:idp]",
   "language": "python",
   "name": "conda-env-idp-py"
  },
  "language_info": {
   "codemirror_mode": {
    "name": "ipython",
    "version": 3
   },
   "file_extension": ".py",
   "mimetype": "text/x-python",
   "name": "python",
   "nbconvert_exporter": "python",
   "pygments_lexer": "ipython3",
   "version": "3.6.8"
  }
 },
 "nbformat": 4,
 "nbformat_minor": 2
}
