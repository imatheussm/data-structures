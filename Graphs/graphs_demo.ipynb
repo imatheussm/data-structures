{
 "cells": [
  {
   "cell_type": "markdown",
   "metadata": {},
   "source": [
    "# Graphs: `AdjacencyList` and `AdjacencyMatrix` modules"
   ]
  },
  {
   "cell_type": "markdown",
   "metadata": {},
   "source": [
    "**A demonstration notebook for `AdjacencyList` and `AdjacencyMatrix` modules**"
   ]
  },
  {
   "cell_type": "markdown",
   "metadata": {},
   "source": [
    "This is a demonstration notebook for the second deliverable of the discipline **Algorithms Project II**, lectured by **Professor Reginaldo Cordeiro dos Santos Filho** at the **Federal University of Pará (UFPA)**."
   ]
  },
  {
   "cell_type": "markdown",
   "metadata": {},
   "source": [
    "## Goals\n"
   ]
  },
  {
   "cell_type": "markdown",
   "metadata": {},
   "source": [
    "According to the deliverable specification document, the goals to be met are as follows:\n",
    "\n",
    "1. The two graph representations must be implemented: adjacency matrix and adjacency list.\n",
    "2. The source-code shall be presented to the Professor.\n",
    "3. The program shall build a Graph according to the specifications chosen by Professor.\n",
    "4. For each representation, the group will be asked to:\n",
    "    - build a graph;\n",
    "    - insert an edge;\n",
    "    - remove an edge;\n",
    "    - check the existence of an edge;\n",
    "    - get the adjacency list of a node;\n",
    "    - print the graph;\n",
    "    - return number of edges and nodes;\n",
    "    - identify a node's degree."
   ]
  },
  {
   "cell_type": "markdown",
   "metadata": {},
   "source": [
    "## Requirements"
   ]
  },
  {
   "cell_type": "code",
   "execution_count": 2,
   "metadata": {},
   "outputs": [],
   "source": [
    "from os import getcwd\n",
    "from sys import path as sys_path\n",
    "from random import shuffle\n",
    "\n",
    "sys_path.append(getcwd())\n",
    "from AdjacencyList import *\n",
    "from AdjacencyMatrix import *"
   ]
  },
  {
   "cell_type": "markdown",
   "metadata": {},
   "source": [
    "## Example\n",
    "This example was taken from the task's document. Throughout this example, an undirected graph shall be created with the following nodes (V) and edges (A) sets:\n",
    "\n",
    "\n",
    "<b>V</b> = {0, 1, 2, 3, 4, 5, 6, 7, 8, 9} \n",
    "\n",
    "\n",
    "<b>A</b> = {(1, 2), (3, 4), (5, 6), (1, 7), (3, 5), (7, 9), (6, 9), (7, 8), (2, 3), (0, 1)}"
   ]
  },
  {
   "cell_type": "markdown",
   "metadata": {},
   "source": [
    "### `AdjListGraph`"
   ]
  },
  {
   "cell_type": "markdown",
   "metadata": {},
   "source": [
    "### >> Creating an object"
   ]
  },
  {
   "cell_type": "code",
   "execution_count": 21,
   "metadata": {},
   "outputs": [],
   "source": [
    "listGraph = AdjListGraph([0, 1, 2, 3, 4, 5, 6, 7, 8, 9], 'n-direcionado')"
   ]
  },
  {
   "cell_type": "code",
   "execution_count": 22,
   "metadata": {},
   "outputs": [
    {
     "data": {
      "text/plain": [
       "<AdjListGraph object>\n",
       "0 -> \n",
       "1 -> \n",
       "2 -> \n",
       "3 -> \n",
       "4 -> \n",
       "5 -> \n",
       "6 -> \n",
       "7 -> \n",
       "8 -> \n",
       "9 -> "
      ]
     },
     "execution_count": 22,
     "metadata": {},
     "output_type": "execute_result"
    }
   ],
   "source": [
    "listGraph"
   ]
  },
  {
   "cell_type": "markdown",
   "metadata": {},
   "source": [
    "### >> Managing edges"
   ]
  },
  {
   "cell_type": "markdown",
   "metadata": {},
   "source": [
    "####  Adding"
   ]
  },
  {
   "cell_type": "code",
   "execution_count": 23,
   "metadata": {},
   "outputs": [],
   "source": [
    "listGraph.addEdge(1, 2)\n",
    "listGraph.addEdge(3, 4)\n",
    "listGraph.addEdge(5, 6)\n",
    "listGraph.addEdge(1, 7)\n",
    "listGraph.addEdge(3, 5)\n",
    "listGraph.addEdge(7, 9)\n",
    "listGraph.addEdge(6, 9)\n",
    "listGraph.addEdge(7, 8)\n",
    "listGraph.addEdge(2, 3)\n",
    "listGraph.addEdge(0, 1)"
   ]
  },
  {
   "cell_type": "code",
   "execution_count": 29,
   "metadata": {},
   "outputs": [
    {
     "data": {
      "text/plain": [
       "<AdjListGraph object>\n",
       "0 -> 1\n",
       "1 -> 2, 7, 0\n",
       "2 -> 1, 3\n",
       "3 -> 4, 5, 2\n",
       "4 -> 3\n",
       "5 -> 6, 3\n",
       "6 -> 5, 9\n",
       "7 -> 1, 9, 8\n",
       "8 -> 7\n",
       "9 -> 7, 6"
      ]
     },
     "execution_count": 29,
     "metadata": {},
     "output_type": "execute_result"
    }
   ],
   "source": [
    "listGraph"
   ]
  },
  {
   "cell_type": "markdown",
   "metadata": {},
   "source": [
    "#### Removing "
   ]
  },
  {
   "cell_type": "code",
   "execution_count": 41,
   "metadata": {},
   "outputs": [],
   "source": [
    "listGraph.removeEdge(1, 2)"
   ]
  },
  {
   "cell_type": "code",
   "execution_count": 42,
   "metadata": {},
   "outputs": [
    {
     "data": {
      "text/plain": [
       "<AdjListGraph object>\n",
       "0 -> 1\n",
       "1 -> 7, 0\n",
       "2 -> 3\n",
       "3 -> 4, 5, 2\n",
       "4 -> 3\n",
       "5 -> 6, 3\n",
       "6 -> 5, 9\n",
       "7 -> 1, 9, 8\n",
       "8 -> 7\n",
       "9 -> 7, 6"
      ]
     },
     "execution_count": 42,
     "metadata": {},
     "output_type": "execute_result"
    }
   ],
   "source": [
    "listGraph"
   ]
  },
  {
   "cell_type": "markdown",
   "metadata": {},
   "source": [
    "#### Checking the existence"
   ]
  },
  {
   "cell_type": "code",
   "execution_count": 43,
   "metadata": {},
   "outputs": [
    {
     "name": "stdout",
     "output_type": "stream",
     "text": [
      "No edges found :(\n"
     ]
    },
    {
     "data": {
      "text/plain": [
       "False"
      ]
     },
     "execution_count": 43,
     "metadata": {},
     "output_type": "execute_result"
    }
   ],
   "source": [
    "listGraph.existsEdge(1, 2)"
   ]
  },
  {
   "cell_type": "code",
   "execution_count": 44,
   "metadata": {},
   "outputs": [
    {
     "name": "stdout",
     "output_type": "stream",
     "text": [
      "An edge was found :)\n"
     ]
    },
    {
     "data": {
      "text/plain": [
       "True"
      ]
     },
     "execution_count": 44,
     "metadata": {},
     "output_type": "execute_result"
    }
   ],
   "source": [
    "listGraph.existsEdge(0, 1)"
   ]
  },
  {
   "cell_type": "markdown",
   "metadata": {},
   "source": [
    "#### Checking the number of edges !!!!!!!This must be checked."
   ]
  },
  {
   "cell_type": "code",
   "execution_count": 45,
   "metadata": {},
   "outputs": [
    {
     "name": "stdout",
     "output_type": "stream",
     "text": [
      "Number of edges: 18\n"
     ]
    }
   ],
   "source": [
    "listGraph.edgesNumber()"
   ]
  },
  {
   "cell_type": "markdown",
   "metadata": {},
   "source": [
    "### >> Managing nodes"
   ]
  },
  {
   "cell_type": "markdown",
   "metadata": {},
   "source": [
    "#### Getting the adjacency list of a node"
   ]
  },
  {
   "cell_type": "code",
   "execution_count": 47,
   "metadata": {},
   "outputs": [
    {
     "name": "stdout",
     "output_type": "stream",
     "text": [
      "7 -> 1, 9, 8\n"
     ]
    }
   ],
   "source": [
    "listGraph.getAdjacents(7)"
   ]
  },
  {
   "cell_type": "markdown",
   "metadata": {},
   "source": [
    "#### Checking the number of nodes"
   ]
  },
  {
   "cell_type": "code",
   "execution_count": 49,
   "metadata": {},
   "outputs": [
    {
     "name": "stdout",
     "output_type": "stream",
     "text": [
      "Number of nodes: 10\n"
     ]
    }
   ],
   "source": [
    "listGraph.nodesNumber()"
   ]
  },
  {
   "cell_type": "markdown",
   "metadata": {},
   "source": [
    "#### Identifying a node's degree"
   ]
  },
  {
   "cell_type": "code",
   "execution_count": 48,
   "metadata": {},
   "outputs": [
    {
     "name": "stdout",
     "output_type": "stream",
     "text": [
      "Degree: 3\n"
     ]
    }
   ],
   "source": [
    "listGraph.nodeDegree(7)"
   ]
  },
  {
   "cell_type": "markdown",
   "metadata": {},
   "source": [
    "### `AdjMatrixGraph` "
   ]
  },
  {
   "cell_type": "markdown",
   "metadata": {},
   "source": [
    "### >> Creating an object"
   ]
  },
  {
   "cell_type": "code",
   "execution_count": 33,
   "metadata": {},
   "outputs": [],
   "source": [
    "matrixGraph = AdjMatrixGraph(10, 'n-direcionado')"
   ]
  },
  {
   "cell_type": "code",
   "execution_count": 34,
   "metadata": {},
   "outputs": [
    {
     "data": {
      "text/plain": [
       "<AdjMatrixGraph object>\n",
       "     0  1  2  3  4  5  6  7  8  9\n",
       "0    0  0  0  0  0  0  0  0  0  0\n",
       "1    0  0  0  0  0  0  0  0  0  0\n",
       "2    0  0  0  0  0  0  0  0  0  0\n",
       "3    0  0  0  0  0  0  0  0  0  0\n",
       "4    0  0  0  0  0  0  0  0  0  0\n",
       "5    0  0  0  0  0  0  0  0  0  0\n",
       "6    0  0  0  0  0  0  0  0  0  0\n",
       "7    0  0  0  0  0  0  0  0  0  0\n",
       "8    0  0  0  0  0  0  0  0  0  0\n",
       "9    0  0  0  0  0  0  0  0  0  0"
      ]
     },
     "execution_count": 34,
     "metadata": {},
     "output_type": "execute_result"
    }
   ],
   "source": [
    "matrixGraph"
   ]
  },
  {
   "cell_type": "markdown",
   "metadata": {},
   "source": [
    "### >> Managing edges"
   ]
  },
  {
   "cell_type": "markdown",
   "metadata": {},
   "source": [
    "#### Adding"
   ]
  },
  {
   "cell_type": "code",
   "execution_count": 35,
   "metadata": {},
   "outputs": [],
   "source": [
    "matrixGraph.addEdge(1, 2)\n",
    "matrixGraph.addEdge(3, 4)\n",
    "matrixGraph.addEdge(5, 6)\n",
    "matrixGraph.addEdge(1, 7)\n",
    "matrixGraph.addEdge(3, 5)\n",
    "matrixGraph.addEdge(7, 9)\n",
    "matrixGraph.addEdge(6, 9)\n",
    "matrixGraph.addEdge(7, 8)\n",
    "matrixGraph.addEdge(2, 3)\n",
    "matrixGraph.addEdge(0, 1)"
   ]
  },
  {
   "cell_type": "code",
   "execution_count": 51,
   "metadata": {},
   "outputs": [
    {
     "data": {
      "text/plain": [
       "<AdjMatrixGraph object>\n",
       "     0  1  2  3  4  5  6  7  8  9\n",
       "0    0  1  0  0  0  0  0  0  0  0\n",
       "1    1  0  1  0  0  0  0  1  0  0\n",
       "2    0  1  0  1  0  0  0  0  0  0\n",
       "3    0  0  1  0  1  1  0  0  0  0\n",
       "4    0  0  0  1  0  0  0  0  0  0\n",
       "5    0  0  0  1  0  0  1  0  0  0\n",
       "6    0  0  0  0  0  1  0  0  0  1\n",
       "7    0  1  0  0  0  0  0  0  1  1\n",
       "8    0  0  0  0  0  0  0  1  0  0\n",
       "9    0  0  0  0  0  0  1  1  0  0"
      ]
     },
     "execution_count": 51,
     "metadata": {},
     "output_type": "execute_result"
    }
   ],
   "source": [
    "matrixGraph"
   ]
  },
  {
   "cell_type": "markdown",
   "metadata": {},
   "source": [
    "#### Removing"
   ]
  },
  {
   "cell_type": "code",
   "execution_count": 52,
   "metadata": {},
   "outputs": [],
   "source": [
    "matrixGraph.removeEdge(7, 8)"
   ]
  },
  {
   "cell_type": "code",
   "execution_count": 53,
   "metadata": {},
   "outputs": [
    {
     "data": {
      "text/plain": [
       "<AdjMatrixGraph object>\n",
       "     0  1  2  3  4  5  6  7  8  9\n",
       "0    0  1  0  0  0  0  0  0  0  0\n",
       "1    1  0  1  0  0  0  0  1  0  0\n",
       "2    0  1  0  1  0  0  0  0  0  0\n",
       "3    0  0  1  0  1  1  0  0  0  0\n",
       "4    0  0  0  1  0  0  0  0  0  0\n",
       "5    0  0  0  1  0  0  1  0  0  0\n",
       "6    0  0  0  0  0  1  0  0  0  1\n",
       "7    0  1  0  0  0  0  0  0  0  1\n",
       "8    0  0  0  0  0  0  0  0  0  0\n",
       "9    0  0  0  0  0  0  1  1  0  0"
      ]
     },
     "execution_count": 53,
     "metadata": {},
     "output_type": "execute_result"
    }
   ],
   "source": [
    "matrixGraph"
   ]
  },
  {
   "cell_type": "markdown",
   "metadata": {},
   "source": [
    "#### Checking the existence"
   ]
  },
  {
   "cell_type": "code",
   "execution_count": 54,
   "metadata": {},
   "outputs": [
    {
     "name": "stdout",
     "output_type": "stream",
     "text": [
      "An edge was found. :)\n"
     ]
    },
    {
     "data": {
      "text/plain": [
       "True"
      ]
     },
     "execution_count": 54,
     "metadata": {},
     "output_type": "execute_result"
    }
   ],
   "source": [
    "matrixGraph.existsEdge(5, 3)"
   ]
  },
  {
   "cell_type": "code",
   "execution_count": 55,
   "metadata": {},
   "outputs": [
    {
     "name": "stdout",
     "output_type": "stream",
     "text": [
      "No edges found. :(\n"
     ]
    },
    {
     "data": {
      "text/plain": [
       "False"
      ]
     },
     "execution_count": 55,
     "metadata": {},
     "output_type": "execute_result"
    }
   ],
   "source": [
    "matrixGraph.existsEdge(7, 8)"
   ]
  },
  {
   "cell_type": "markdown",
   "metadata": {},
   "source": [
    "#### Checking the number of edges !!!!This must be checked."
   ]
  },
  {
   "cell_type": "code",
   "execution_count": 56,
   "metadata": {},
   "outputs": [
    {
     "data": {
      "text/plain": [
       "9"
      ]
     },
     "execution_count": 56,
     "metadata": {},
     "output_type": "execute_result"
    }
   ],
   "source": [
    "matrixGraph.edgesNumber()"
   ]
  },
  {
   "cell_type": "markdown",
   "metadata": {},
   "source": [
    "### >> Managing nodes"
   ]
  },
  {
   "cell_type": "markdown",
   "metadata": {},
   "source": [
    "#### Getting the adjacency list of a node"
   ]
  },
  {
   "cell_type": "code",
   "execution_count": 57,
   "metadata": {},
   "outputs": [
    {
     "name": "stdout",
     "output_type": "stream",
     "text": [
      "7 -> 1, 9\n"
     ]
    }
   ],
   "source": [
    "matrixGraph.getAdjacents(7)"
   ]
  },
  {
   "cell_type": "markdown",
   "metadata": {},
   "source": [
    "#### Checking the number of nodes"
   ]
  },
  {
   "cell_type": "code",
   "execution_count": 58,
   "metadata": {},
   "outputs": [
    {
     "name": "stdout",
     "output_type": "stream",
     "text": [
      "There are  10  nodes.\n"
     ]
    }
   ],
   "source": [
    "matrixGraph.nodesNumber()"
   ]
  },
  {
   "cell_type": "markdown",
   "metadata": {},
   "source": [
    "#### Identifying a node's degree"
   ]
  },
  {
   "cell_type": "code",
   "execution_count": 59,
   "metadata": {},
   "outputs": [
    {
     "name": "stdout",
     "output_type": "stream",
     "text": [
      "Grau: 2\n"
     ]
    }
   ],
   "source": [
    "matrixGraph.nodeDegree(7)"
   ]
  }
 ],
 "metadata": {
  "kernelspec": {
   "display_name": "Python 3",
   "language": "python",
   "name": "python3"
  },
  "language_info": {
   "codemirror_mode": {
    "name": "ipython",
    "version": 3
   },
   "file_extension": ".py",
   "mimetype": "text/x-python",
   "name": "python",
   "nbconvert_exporter": "python",
   "pygments_lexer": "ipython3",
   "version": "3.7.4"
  }
 },
 "nbformat": 4,
 "nbformat_minor": 2
}
