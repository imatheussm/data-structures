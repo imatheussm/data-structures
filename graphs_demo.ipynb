{
 "cells": [
  {
   "cell_type": "markdown",
   "metadata": {},
   "source": [
    "# Graphs: `AdjacencyList` and `AdjacencyMatrix` modules"
   ]
  },
  {
   "cell_type": "markdown",
   "metadata": {},
   "source": [
    "**A demonstration notebook for `AdjacencyList` and `AdjacencyMatrix` modules**"
   ]
  },
  {
   "cell_type": "markdown",
   "metadata": {},
   "source": [
    "This is a demonstration notebook for the second deliverable of the discipline **Algorithms Project II**, lectured by **Professor Reginaldo Cordeiro dos Santos Filho** at the **Federal University of Pará (UFPA)**."
   ]
  },
  {
   "cell_type": "markdown",
   "metadata": {},
   "source": [
    "## Goals\n"
   ]
  },
  {
   "cell_type": "markdown",
   "metadata": {},
   "source": [
    "According to the deliverable specification document, the goals to be met are as follows:\n",
    "\n",
    "1. The two graph representations must be implemented: adjacency matrix and adjacency list.\n",
    "2. The source-code shall be presented to the Professor.\n",
    "3. The program shall build a Graph according to the specifications chosen by Professor.\n",
    "4. For each representation, the group will be asked to:\n",
    "    - build a graph;\n",
    "    - insert an edge;\n",
    "    - remove an edge;\n",
    "    - check the existence of an edge;\n",
    "    - get the adjacency list of a node;\n",
    "    - print the graph;\n",
    "    - return the number of edges and nodes;\n",
    "    - identify a node's degree."
   ]
  },
  {
   "cell_type": "markdown",
   "metadata": {},
   "source": [
    "## Requirements"
   ]
  },
  {
   "cell_type": "code",
   "execution_count": 1,
   "metadata": {
    "collapsed": true,
    "jupyter": {
     "outputs_hidden": true
    }
   },
   "outputs": [],
   "source": [
    "from os import getcwd\n",
    "from sys import path as sys_path\n",
    "from random import shuffle\n",
    "\n",
    "sys_path.append(getcwd())\n",
    "from AdjacencyList import *\n",
    "from AdjacencyMatrix import *"
   ]
  },
  {
   "cell_type": "markdown",
   "metadata": {},
   "source": [
    "## Example 1\n",
    "This example was taken from the task's document. Throughout this example, an undirected graph shall be created with the following nodes (V) and edges (A) sets:\n",
    "\n",
    "\n",
    "<b>V</b> = {0, 1, 2, 3, 4, 5, 6, 7, 8, 9} \n",
    "\n",
    "\n",
    "<b>A</b> = {(1, 2), (3, 4), (5, 6), (1, 7), (3, 5), (7, 9), (6, 9), (7, 8), (2, 3), (0, 1)}"
   ]
  },
  {
   "cell_type": "markdown",
   "metadata": {},
   "source": [
    "### `AdjListGraph`"
   ]
  },
  {
   "cell_type": "markdown",
   "metadata": {},
   "source": [
    "### >> Creating an object"
   ]
  },
  {
   "cell_type": "code",
   "execution_count": 2,
   "metadata": {
    "collapsed": true,
    "jupyter": {
     "outputs_hidden": true
    }
   },
   "outputs": [],
   "source": [
    "listGraph = AdjListGraph([0, 1, 2, 3, 4, 5, 6, 7, 8, 9], 'n-direcionado')"
   ]
  },
  {
   "cell_type": "code",
   "execution_count": 3,
   "metadata": {},
   "outputs": [
    {
     "data": {
      "text/plain": [
       "<AdjListGraph object>\n",
       "0 -> \n",
       "1 -> \n",
       "2 -> \n",
       "3 -> \n",
       "4 -> \n",
       "5 -> \n",
       "6 -> \n",
       "7 -> \n",
       "8 -> \n",
       "9 -> "
      ]
     },
     "execution_count": 3,
     "metadata": {},
     "output_type": "execute_result"
    }
   ],
   "source": [
    "listGraph"
   ]
  },
  {
   "cell_type": "markdown",
   "metadata": {},
   "source": [
    "### >> Managing edges"
   ]
  },
  {
   "cell_type": "markdown",
   "metadata": {},
   "source": [
    "####  Adding"
   ]
  },
  {
   "cell_type": "code",
   "execution_count": 4,
   "metadata": {
    "collapsed": true,
    "jupyter": {
     "outputs_hidden": true
    }
   },
   "outputs": [],
   "source": [
    "listGraph.add_edge(1, 2)\n",
    "listGraph.add_edge(3, 4)\n",
    "listGraph.add_edge(5, 6)\n",
    "listGraph.add_edge(1, 7)\n",
    "listGraph.add_edge(3, 5)\n",
    "listGraph.add_edge(7, 9)\n",
    "listGraph.add_edge(6, 9)\n",
    "listGraph.add_edge(7, 8)\n",
    "listGraph.add_edge(2, 3)\n",
    "listGraph.add_edge(0, 1)"
   ]
  },
  {
   "cell_type": "code",
   "execution_count": 5,
   "metadata": {},
   "outputs": [
    {
     "data": {
      "text/plain": [
       "<AdjListGraph object>\n",
       "0 -> 1\n",
       "1 -> 2, 7, 0\n",
       "2 -> 1, 3\n",
       "3 -> 4, 5, 2\n",
       "4 -> 3\n",
       "5 -> 6, 3\n",
       "6 -> 5, 9\n",
       "7 -> 1, 9, 8\n",
       "8 -> 7\n",
       "9 -> 7, 6"
      ]
     },
     "execution_count": 5,
     "metadata": {},
     "output_type": "execute_result"
    }
   ],
   "source": [
    "listGraph"
   ]
  },
  {
   "cell_type": "markdown",
   "metadata": {},
   "source": [
    "#### Removing "
   ]
  },
  {
   "cell_type": "code",
   "execution_count": 6,
   "metadata": {
    "collapsed": true,
    "jupyter": {
     "outputs_hidden": true
    }
   },
   "outputs": [],
   "source": [
    "listGraph.remove_edge(1, 2)"
   ]
  },
  {
   "cell_type": "code",
   "execution_count": 7,
   "metadata": {},
   "outputs": [
    {
     "data": {
      "text/plain": [
       "<AdjListGraph object>\n",
       "0 -> 1\n",
       "1 -> 7, 0\n",
       "2 -> 3\n",
       "3 -> 4, 5, 2\n",
       "4 -> 3\n",
       "5 -> 6, 3\n",
       "6 -> 5, 9\n",
       "7 -> 1, 9, 8\n",
       "8 -> 7\n",
       "9 -> 7, 6"
      ]
     },
     "execution_count": 7,
     "metadata": {},
     "output_type": "execute_result"
    }
   ],
   "source": [
    "listGraph"
   ]
  },
  {
   "cell_type": "markdown",
   "metadata": {},
   "source": [
    "#### Checking the existence"
   ]
  },
  {
   "cell_type": "code",
   "execution_count": 8,
   "metadata": {},
   "outputs": [
    {
     "name": "stdout",
     "output_type": "stream",
     "text": [
      "No edges found :(\n"
     ]
    },
    {
     "data": {
      "text/plain": [
       "False"
      ]
     },
     "execution_count": 8,
     "metadata": {},
     "output_type": "execute_result"
    }
   ],
   "source": [
    "listGraph.is_edge(1, 2)"
   ]
  },
  {
   "cell_type": "code",
   "execution_count": 9,
   "metadata": {},
   "outputs": [
    {
     "name": "stdout",
     "output_type": "stream",
     "text": [
      "An edge was found :)\n"
     ]
    },
    {
     "data": {
      "text/plain": [
       "True"
      ]
     },
     "execution_count": 9,
     "metadata": {},
     "output_type": "execute_result"
    }
   ],
   "source": [
    "listGraph.is_edge(0, 1)"
   ]
  },
  {
   "cell_type": "markdown",
   "metadata": {},
   "source": [
    "#### Checking the number of edges "
   ]
  },
  {
   "cell_type": "code",
   "execution_count": 10,
   "metadata": {},
   "outputs": [
    {
     "name": "stdout",
     "output_type": "stream",
     "text": [
      "Number of edges: 9\n"
     ]
    }
   ],
   "source": [
    "listGraph.number_of_edges()"
   ]
  },
  {
   "cell_type": "markdown",
   "metadata": {},
   "source": [
    "### >> Managing nodes"
   ]
  },
  {
   "cell_type": "markdown",
   "metadata": {},
   "source": [
    "#### Getting the adjacency list of a node"
   ]
  },
  {
   "cell_type": "code",
   "execution_count": 11,
   "metadata": {},
   "outputs": [
    {
     "name": "stdout",
     "output_type": "stream",
     "text": [
      "7 -> 1, 9, 8\n"
     ]
    }
   ],
   "source": [
    "listGraph.get_adjacency(7)"
   ]
  },
  {
   "cell_type": "markdown",
   "metadata": {},
   "source": [
    "#### Checking the number of nodes"
   ]
  },
  {
   "cell_type": "code",
   "execution_count": 12,
   "metadata": {},
   "outputs": [
    {
     "name": "stdout",
     "output_type": "stream",
     "text": [
      "Number of nodes: 10\n"
     ]
    }
   ],
   "source": [
    "listGraph.number_of_nodes()"
   ]
  },
  {
   "cell_type": "markdown",
   "metadata": {},
   "source": [
    "#### Identifying a node's degree"
   ]
  },
  {
   "cell_type": "code",
   "execution_count": 13,
   "metadata": {},
   "outputs": [
    {
     "name": "stdout",
     "output_type": "stream",
     "text": [
      "Degree: 3\n"
     ]
    }
   ],
   "source": [
    "listGraph.node_degree(7)"
   ]
  },
  {
   "cell_type": "markdown",
   "metadata": {},
   "source": [
    "### `AdjMatrixGraph` "
   ]
  },
  {
   "cell_type": "markdown",
   "metadata": {},
   "source": [
    "### >> Creating an object"
   ]
  },
  {
   "cell_type": "code",
   "execution_count": 14,
   "metadata": {
    "collapsed": true,
    "jupyter": {
     "outputs_hidden": true
    }
   },
   "outputs": [],
   "source": [
    "matrixGraph = AdjMatrixGraph(10, 'n-direcionado')"
   ]
  },
  {
   "cell_type": "code",
   "execution_count": 15,
   "metadata": {},
   "outputs": [
    {
     "data": {
      "text/plain": [
       "<AdjMatrixGraph object>\n",
       "    0  1  2  3  4  5  6  7  8  9 \n",
       "\n",
       "0   0  0  0  0  0  0  0  0  0  0 \n",
       "1   0  0  0  0  0  0  0  0  0  0 \n",
       "2   0  0  0  0  0  0  0  0  0  0 \n",
       "3   0  0  0  0  0  0  0  0  0  0 \n",
       "4   0  0  0  0  0  0  0  0  0  0 \n",
       "5   0  0  0  0  0  0  0  0  0  0 \n",
       "6   0  0  0  0  0  0  0  0  0  0 \n",
       "7   0  0  0  0  0  0  0  0  0  0 \n",
       "8   0  0  0  0  0  0  0  0  0  0 \n",
       "9   0  0  0  0  0  0  0  0  0  0 "
      ]
     },
     "execution_count": 15,
     "metadata": {},
     "output_type": "execute_result"
    }
   ],
   "source": [
    "matrixGraph"
   ]
  },
  {
   "cell_type": "markdown",
   "metadata": {},
   "source": [
    "### >> Managing edges"
   ]
  },
  {
   "cell_type": "markdown",
   "metadata": {},
   "source": [
    "#### Adding"
   ]
  },
  {
   "cell_type": "code",
   "execution_count": 16,
   "metadata": {
    "collapsed": true,
    "jupyter": {
     "outputs_hidden": true
    }
   },
   "outputs": [],
   "source": [
    "matrixGraph.add_edge(1, 2)\n",
    "matrixGraph.add_edge(3, 4)\n",
    "matrixGraph.add_edge(5, 6)\n",
    "matrixGraph.add_edge(1, 7)\n",
    "matrixGraph.add_edge(3, 5)\n",
    "matrixGraph.add_edge(7, 9)\n",
    "matrixGraph.add_edge(6, 9)\n",
    "matrixGraph.add_edge(7, 8)\n",
    "matrixGraph.add_edge(2, 3)\n",
    "matrixGraph.add_edge(0, 1)"
   ]
  },
  {
   "cell_type": "code",
   "execution_count": 17,
   "metadata": {},
   "outputs": [
    {
     "data": {
      "text/plain": [
       "<AdjMatrixGraph object>\n",
       "    0  1  2  3  4  5  6  7  8  9 \n",
       "\n",
       "0   0  1  0  0  0  0  0  0  0  0 \n",
       "1   1  0  1  0  0  0  0  1  0  0 \n",
       "2   0  1  0  1  0  0  0  0  0  0 \n",
       "3   0  0  1  0  1  1  0  0  0  0 \n",
       "4   0  0  0  1  0  0  0  0  0  0 \n",
       "5   0  0  0  1  0  0  1  0  0  0 \n",
       "6   0  0  0  0  0  1  0  0  0  1 \n",
       "7   0  1  0  0  0  0  0  0  1  1 \n",
       "8   0  0  0  0  0  0  0  1  0  0 \n",
       "9   0  0  0  0  0  0  1  1  0  0 "
      ]
     },
     "execution_count": 17,
     "metadata": {},
     "output_type": "execute_result"
    }
   ],
   "source": [
    "matrixGraph"
   ]
  },
  {
   "cell_type": "markdown",
   "metadata": {},
   "source": [
    "#### Removing"
   ]
  },
  {
   "cell_type": "code",
   "execution_count": 18,
   "metadata": {
    "collapsed": true,
    "jupyter": {
     "outputs_hidden": true
    }
   },
   "outputs": [],
   "source": [
    "matrixGraph.remove_edge(7, 8)"
   ]
  },
  {
   "cell_type": "code",
   "execution_count": 19,
   "metadata": {},
   "outputs": [
    {
     "data": {
      "text/plain": [
       "<AdjMatrixGraph object>\n",
       "    0  1  2  3  4  5  6  7  8  9 \n",
       "\n",
       "0   0  1  0  0  0  0  0  0  0  0 \n",
       "1   1  0  1  0  0  0  0  1  0  0 \n",
       "2   0  1  0  1  0  0  0  0  0  0 \n",
       "3   0  0  1  0  1  1  0  0  0  0 \n",
       "4   0  0  0  1  0  0  0  0  0  0 \n",
       "5   0  0  0  1  0  0  1  0  0  0 \n",
       "6   0  0  0  0  0  1  0  0  0  1 \n",
       "7   0  1  0  0  0  0  0  0  0  1 \n",
       "8   0  0  0  0  0  0  0  0  0  0 \n",
       "9   0  0  0  0  0  0  1  1  0  0 "
      ]
     },
     "execution_count": 19,
     "metadata": {},
     "output_type": "execute_result"
    }
   ],
   "source": [
    "matrixGraph"
   ]
  },
  {
   "cell_type": "markdown",
   "metadata": {},
   "source": [
    "#### Checking the existence"
   ]
  },
  {
   "cell_type": "code",
   "execution_count": 20,
   "metadata": {},
   "outputs": [
    {
     "name": "stdout",
     "output_type": "stream",
     "text": [
      "An edge was found. :)\n"
     ]
    },
    {
     "data": {
      "text/plain": [
       "True"
      ]
     },
     "execution_count": 20,
     "metadata": {},
     "output_type": "execute_result"
    }
   ],
   "source": [
    "matrixGraph.is_edge(5, 3)"
   ]
  },
  {
   "cell_type": "code",
   "execution_count": 21,
   "metadata": {},
   "outputs": [
    {
     "name": "stdout",
     "output_type": "stream",
     "text": [
      "No edges found. :(\n"
     ]
    },
    {
     "data": {
      "text/plain": [
       "False"
      ]
     },
     "execution_count": 21,
     "metadata": {},
     "output_type": "execute_result"
    }
   ],
   "source": [
    "matrixGraph.is_edge(7, 8)"
   ]
  },
  {
   "cell_type": "markdown",
   "metadata": {},
   "source": [
    "#### Checking the number of edges "
   ]
  },
  {
   "cell_type": "code",
   "execution_count": 22,
   "metadata": {},
   "outputs": [
    {
     "name": "stdout",
     "output_type": "stream",
     "text": [
      "Number of edges: 9\n"
     ]
    }
   ],
   "source": [
    "matrixGraph.number_of_edges()"
   ]
  },
  {
   "cell_type": "markdown",
   "metadata": {},
   "source": [
    "### >> Managing nodes"
   ]
  },
  {
   "cell_type": "markdown",
   "metadata": {},
   "source": [
    "#### Getting the adjacency list of a node"
   ]
  },
  {
   "cell_type": "code",
   "execution_count": 23,
   "metadata": {},
   "outputs": [
    {
     "name": "stdout",
     "output_type": "stream",
     "text": [
      "7 -> 1, 9\n"
     ]
    }
   ],
   "source": [
    "matrixGraph.get_adjacency(7)"
   ]
  },
  {
   "cell_type": "markdown",
   "metadata": {},
   "source": [
    "#### Checking the number of nodes"
   ]
  },
  {
   "cell_type": "code",
   "execution_count": 24,
   "metadata": {},
   "outputs": [
    {
     "name": "stdout",
     "output_type": "stream",
     "text": [
      "Number of nodes: 10\n"
     ]
    }
   ],
   "source": [
    "matrixGraph.number_of_nodes()"
   ]
  },
  {
   "cell_type": "markdown",
   "metadata": {},
   "source": [
    "#### Identifying a node's degree"
   ]
  },
  {
   "cell_type": "code",
   "execution_count": 25,
   "metadata": {},
   "outputs": [
    {
     "name": "stdout",
     "output_type": "stream",
     "text": [
      "Degree: 2\n"
     ]
    }
   ],
   "source": [
    "matrixGraph.node_degree(7)"
   ]
  },
  {
   "cell_type": "markdown",
   "metadata": {},
   "source": [
    "## Example 2\n",
    "This example was taken from slide 16. Throughout this example, a **directed** graph shall be created with the following nodes (V) and edges (A) sets:\n",
    "\n",
    "\n",
    "<b>V</b> = {0, 1, 2, 3, 4, 5} \n",
    "\n",
    "<b>A</b> = {(0, 1), (0, 3), (1, 2), (1, 3), (2, 2), (2, 3), (3, 0), (5, 4)}"
   ]
  },
  {
   "cell_type": "code",
   "execution_count": 26,
   "metadata": {
    "collapsed": true,
    "jupyter": {
     "outputs_hidden": true
    }
   },
   "outputs": [],
   "source": [
    "V = (0, 1, 2, 3, 4, 5)\n",
    "\n",
    "A = ((0, 1), (0, 3), (1, 2), (1, 3), (2, 2), (2, 3), (3, 0), (5, 4))"
   ]
  },
  {
   "cell_type": "markdown",
   "metadata": {},
   "source": [
    "### `AdjListGraph` "
   ]
  },
  {
   "cell_type": "code",
   "execution_count": 27,
   "metadata": {
    "collapsed": true,
    "jupyter": {
     "outputs_hidden": true
    }
   },
   "outputs": [],
   "source": [
    "listGraph2 = AdjListGraph([0, 1, 2, 3, 4, 5], 'direcionado')"
   ]
  },
  {
   "cell_type": "code",
   "execution_count": 28,
   "metadata": {},
   "outputs": [
    {
     "data": {
      "text/plain": [
       "<AdjListGraph object>\n",
       "0 -> \n",
       "1 -> \n",
       "2 -> \n",
       "3 -> \n",
       "4 -> \n",
       "5 -> "
      ]
     },
     "execution_count": 28,
     "metadata": {},
     "output_type": "execute_result"
    }
   ],
   "source": [
    "listGraph2"
   ]
  },
  {
   "cell_type": "code",
   "execution_count": 29,
   "metadata": {},
   "outputs": [],
   "source": [
    "for (origin, destination) in A:\n",
    "    try:\n",
    "        listGraph2.add_edge(origin, destination)\n",
    "    except:\n",
    "        if str(destination) in listGraph2[origin].get_adjacency():\n",
    "            print(f\"({origin},{destination}) já está no grafo.\")\n",
    "        else:\n",
    "            print(f\"Não foi possível adicionar ({origin}, {destination}).\")"
   ]
  },
  {
   "cell_type": "code",
   "execution_count": 30,
   "metadata": {},
   "outputs": [
    {
     "data": {
      "text/plain": [
       "<AdjListGraph object>\n",
       "0 -> 1, 3\n",
       "1 -> 2, 3\n",
       "2 -> 2, 3\n",
       "3 -> 0\n",
       "4 -> \n",
       "5 -> 4"
      ]
     },
     "execution_count": 30,
     "metadata": {},
     "output_type": "execute_result"
    }
   ],
   "source": [
    "listGraph2"
   ]
  },
  {
   "cell_type": "markdown",
   "metadata": {},
   "source": [
    "### `AdjMatrixGraph`"
   ]
  },
  {
   "cell_type": "code",
   "execution_count": 31,
   "metadata": {
    "collapsed": true,
    "jupyter": {
     "outputs_hidden": true
    }
   },
   "outputs": [],
   "source": [
    "matrixGraph2 = AdjMatrixGraph(6, 'direcionado')"
   ]
  },
  {
   "cell_type": "code",
   "execution_count": 32,
   "metadata": {},
   "outputs": [
    {
     "data": {
      "text/plain": [
       "<AdjMatrixGraph object>\n",
       "   0 1 2 3 4 5\n",
       "\n",
       "0  0 0 0 0 0 0\n",
       "1  0 0 0 0 0 0\n",
       "2  0 0 0 0 0 0\n",
       "3  0 0 0 0 0 0\n",
       "4  0 0 0 0 0 0\n",
       "5  0 0 0 0 0 0"
      ]
     },
     "execution_count": 32,
     "metadata": {},
     "output_type": "execute_result"
    }
   ],
   "source": [
    "matrixGraph2"
   ]
  },
  {
   "cell_type": "code",
   "execution_count": 33,
   "metadata": {},
   "outputs": [],
   "source": [
    "for (origin, destination) in A:\n",
    "    try:\n",
    "        matrixGraph2.add_edge(origin, destination)\n",
    "    except:\n",
    "        if (origin, destination) in matrixGraph2:\n",
    "            print(f\"({origin},{destination}) já está no grafo.\")\n",
    "        else:\n",
    "            print(f\"Não foi possível adicionar ({origin}, {destination}).\")"
   ]
  },
  {
   "cell_type": "code",
   "execution_count": 34,
   "metadata": {},
   "outputs": [
    {
     "data": {
      "text/plain": [
       "<AdjMatrixGraph object>\n",
       "   0 1 2 3 4 5\n",
       "\n",
       "0  0 1 0 1 0 0\n",
       "1  0 0 1 1 0 0\n",
       "2  0 0 1 1 0 0\n",
       "3  1 0 0 0 0 0\n",
       "4  0 0 0 0 0 0\n",
       "5  0 0 0 0 1 0"
      ]
     },
     "execution_count": 34,
     "metadata": {},
     "output_type": "execute_result"
    }
   ],
   "source": [
    "matrixGraph2"
   ]
  },
  {
   "cell_type": "markdown",
   "metadata": {},
   "source": [
    "Now, the same example applied to an **undirected** Graph:"
   ]
  },
  {
   "cell_type": "markdown",
   "metadata": {},
   "source": [
    "### `AdjListGraph`"
   ]
  },
  {
   "cell_type": "code",
   "execution_count": 35,
   "metadata": {
    "collapsed": true,
    "jupyter": {
     "outputs_hidden": true
    }
   },
   "outputs": [],
   "source": [
    "listGraph3 = AdjListGraph(V, 'n-direcionado')"
   ]
  },
  {
   "cell_type": "code",
   "execution_count": 36,
   "metadata": {},
   "outputs": [
    {
     "data": {
      "text/plain": [
       "<AdjListGraph object>\n",
       "0 -> \n",
       "1 -> \n",
       "2 -> \n",
       "3 -> \n",
       "4 -> \n",
       "5 -> "
      ]
     },
     "execution_count": 36,
     "metadata": {},
     "output_type": "execute_result"
    }
   ],
   "source": [
    "listGraph3"
   ]
  },
  {
   "cell_type": "code",
   "execution_count": 37,
   "metadata": {},
   "outputs": [
    {
     "name": "stdout",
     "output_type": "stream",
     "text": [
      "Não foi possível adicionar (2, 2).\n",
      "(3,0) já está no grafo.\n"
     ]
    }
   ],
   "source": [
    "for (origin, destination) in A:\n",
    "    try:\n",
    "        listGraph3.add_edge(origin, destination)\n",
    "    except:\n",
    "        if str(destination) in listGraph3[origin].get_adjacents():\n",
    "            print(f\"({origin},{destination}) já está no grafo.\")\n",
    "        else:\n",
    "            print(f\"Não foi possível adicionar ({origin}, {destination}).\")"
   ]
  },
  {
   "cell_type": "code",
   "execution_count": 38,
   "metadata": {},
   "outputs": [
    {
     "data": {
      "text/plain": [
       "<AdjListGraph object>\n",
       "0 -> 1, 3\n",
       "1 -> 0, 2, 3\n",
       "2 -> 1, 3\n",
       "3 -> 0, 1, 2\n",
       "4 -> 5\n",
       "5 -> 4"
      ]
     },
     "execution_count": 38,
     "metadata": {},
     "output_type": "execute_result"
    }
   ],
   "source": [
    "listGraph3"
   ]
  },
  {
   "cell_type": "markdown",
   "metadata": {},
   "source": [
    "### `AdjMatrixGraph`"
   ]
  },
  {
   "cell_type": "code",
   "execution_count": 39,
   "metadata": {
    "collapsed": true,
    "jupyter": {
     "outputs_hidden": true
    }
   },
   "outputs": [],
   "source": [
    "matrixGraph3 = AdjMatrixGraph(6, 'n-direcionado')"
   ]
  },
  {
   "cell_type": "code",
   "execution_count": 40,
   "metadata": {},
   "outputs": [
    {
     "data": {
      "text/plain": [
       "<AdjMatrixGraph object>\n",
       "   0 1 2 3 4 5\n",
       "\n",
       "0  0 0 0 0 0 0\n",
       "1  0 0 0 0 0 0\n",
       "2  0 0 0 0 0 0\n",
       "3  0 0 0 0 0 0\n",
       "4  0 0 0 0 0 0\n",
       "5  0 0 0 0 0 0"
      ]
     },
     "execution_count": 40,
     "metadata": {},
     "output_type": "execute_result"
    }
   ],
   "source": [
    "matrixGraph3"
   ]
  },
  {
   "cell_type": "code",
   "execution_count": 41,
   "metadata": {},
   "outputs": [
    {
     "name": "stdout",
     "output_type": "stream",
     "text": [
      "Não foi possível adicionar (2, 2).\n",
      "(3,0) já está no grafo.\n"
     ]
    }
   ],
   "source": [
    "for (origin, destination) in A:\n",
    "    try:\n",
    "        matrixGraph3.add_edge(origin, destination)\n",
    "    except:\n",
    "        if (origin, destination) in matrixGraph3:\n",
    "            print(f\"({origin},{destination}) já está no grafo.\")\n",
    "        else:\n",
    "            print(f\"Não foi possível adicionar ({origin}, {destination}).\")"
   ]
  },
  {
   "cell_type": "code",
   "execution_count": 42,
   "metadata": {},
   "outputs": [
    {
     "data": {
      "text/plain": [
       "<AdjMatrixGraph object>\n",
       "   0 1 2 3 4 5\n",
       "\n",
       "0  0 1 0 1 0 0\n",
       "1  1 0 1 1 0 0\n",
       "2  0 1 0 1 0 0\n",
       "3  1 1 1 0 0 0\n",
       "4  0 0 0 0 0 1\n",
       "5  0 0 0 0 1 0"
      ]
     },
     "execution_count": 42,
     "metadata": {},
     "output_type": "execute_result"
    }
   ],
   "source": [
    "matrixGraph3"
   ]
  }
 ],
 "metadata": {
  "kernelspec": {
   "display_name": "Python 3",
   "language": "python",
   "name": "python3"
  },
  "language_info": {
   "codemirror_mode": {
    "name": "ipython",
    "version": 3
   },
   "file_extension": ".py",
   "mimetype": "text/x-python",
   "name": "python",
   "nbconvert_exporter": "python",
   "pygments_lexer": "ipython3",
   "version": "3.7.3"
  }
 },
 "nbformat": 4,
 "nbformat_minor": 4
}
