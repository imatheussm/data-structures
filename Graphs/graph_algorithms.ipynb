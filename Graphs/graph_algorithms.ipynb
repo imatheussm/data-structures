{
 "cells": [
  {
   "cell_type": "markdown",
   "metadata": {},
   "source": [
    "# `graphs`"
   ]
  },
  {
   "cell_type": "markdown",
   "metadata": {},
   "source": [
    "**Algorithmic demonstrations**"
   ]
  },
  {
   "cell_type": "markdown",
   "metadata": {},
   "source": [
    "- [1. Requirements](#1.-Requirements)\n",
    "- [2. Examples](#2.-Examples)\n",
    "    - [2.1. Example 1](#2.1.-Example-1)\n",
    "    - [2.2. Example 2](#2.2.-Example-2)\n",
    "    - [2.3. Example 3](#2.3.-Example-3)"
   ]
  },
  {
   "cell_type": "markdown",
   "metadata": {},
   "source": [
    "## 1. Requirements"
   ]
  },
  {
   "cell_type": "code",
   "execution_count": 1,
   "metadata": {},
   "outputs": [],
   "source": [
    "from os import getcwd\n",
    "from sys import path as sys_path"
   ]
  },
  {
   "cell_type": "code",
   "execution_count": 2,
   "metadata": {},
   "outputs": [],
   "source": [
    "sys_path.append(getcwd())"
   ]
  },
  {
   "cell_type": "code",
   "execution_count": 3,
   "metadata": {},
   "outputs": [],
   "source": [
    "from AdjacencyList import *\n",
    "from AdjacencyMatrix import *"
   ]
  },
  {
   "cell_type": "markdown",
   "metadata": {},
   "source": [
    "[Back to Top](#graphs)"
   ]
  },
  {
   "cell_type": "markdown",
   "metadata": {},
   "source": [
    "## 2. Examples"
   ]
  },
  {
   "cell_type": "markdown",
   "metadata": {},
   "source": [
    "### 2.1. Example 1"
   ]
  },
  {
   "cell_type": "markdown",
   "metadata": {},
   "source": [
    "![](images/graph1.jpg)"
   ]
  },
  {
   "cell_type": "markdown",
   "metadata": {},
   "source": [
    "**Definition:**"
   ]
  },
  {
   "cell_type": "code",
   "execution_count": 4,
   "metadata": {},
   "outputs": [],
   "source": [
    "x = AdjListGraph([0, 1, 2, 3, 4, 5], True, False)\n",
    "A = ((0, 1), (1, 2), (2, 3), (3, 1), (1, 4), (4, 3), (0, 4), (5, 4), (5, 0))"
   ]
  },
  {
   "cell_type": "code",
   "execution_count": 5,
   "metadata": {},
   "outputs": [],
   "source": [
    "for (origin, destination) in A:\n",
    "    x.add_edge(origin, destination)"
   ]
  },
  {
   "cell_type": "markdown",
   "metadata": {},
   "source": [
    "**Depth-first search:**"
   ]
  },
  {
   "cell_type": "code",
   "execution_count": 6,
   "metadata": {},
   "outputs": [
    {
     "name": "stdout",
     "output_type": "stream",
     "text": [
      "Nó:  0 Descoberta:  1 Término:  10\n",
      "Nó:  1 Descoberta:  2 Término:  9\n",
      "Nó:  2 Descoberta:  3 Término:  6\n",
      "Nó:  3 Descoberta:  4 Término:  5\n",
      "Nó:  4 Descoberta:  7 Término:  8\n",
      "Nó:  5 Descoberta:  11 Término:  12\n",
      "Origem:  0 Destino:  1 Tipo:  árvore\n",
      "Origem:  0 Destino:  4 Tipo:  None\n",
      "Origem:  1 Destino:  2 Tipo:  árvore\n",
      "Origem:  1 Destino:  4 Tipo:  árvore\n",
      "Origem:  2 Destino:  3 Tipo:  árvore\n",
      "Origem:  3 Destino:  1 Tipo:  retorno\n",
      "Origem:  4 Destino:  3 Tipo:  None\n",
      "Origem:  5 Destino:  4 Tipo:  None\n",
      "Origem:  5 Destino:  0 Tipo:  None\n"
     ]
    }
   ],
   "source": [
    "x.depth_search()"
   ]
  },
  {
   "cell_type": "markdown",
   "metadata": {},
   "source": [
    "**Breadth-first search:**"
   ]
  },
  {
   "cell_type": "code",
   "execution_count": 7,
   "metadata": {},
   "outputs": [
    {
     "name": "stdout",
     "output_type": "stream",
     "text": [
      "Nó:  0 Distância do nó de origem:  inf\n",
      "Nó:  1 Distância do nó de origem:  2\n",
      "Nó:  2 Distância do nó de origem:  3\n",
      "Nó:  3 Distância do nó de origem:  1\n",
      "Nó:  4 Distância do nó de origem:  0\n",
      "Nó:  5 Distância do nó de origem:  inf\n"
     ]
    }
   ],
   "source": [
    "x.breadth_search(4)"
   ]
  },
  {
   "cell_type": "markdown",
   "metadata": {},
   "source": [
    "**Is the graph acyclic?**"
   ]
  },
  {
   "cell_type": "code",
   "execution_count": 8,
   "metadata": {},
   "outputs": [
    {
     "name": "stdout",
     "output_type": "stream",
     "text": [
      "True\n"
     ]
    }
   ],
   "source": [
    "print(x.acyclic())"
   ]
  },
  {
   "cell_type": "markdown",
   "metadata": {},
   "source": [
    "**Topological sorting:**"
   ]
  },
  {
   "cell_type": "code",
   "execution_count": 9,
   "metadata": {},
   "outputs": [
    {
     "name": "stdout",
     "output_type": "stream",
     "text": [
      "Nó:  0 Descoberta:  1 Término:  10\n",
      "Nó:  1 Descoberta:  2 Término:  9\n",
      "Nó:  2 Descoberta:  3 Término:  6\n",
      "Nó:  3 Descoberta:  4 Término:  5\n",
      "Nó:  4 Descoberta:  7 Término:  8\n",
      "Nó:  5 Descoberta:  11 Término:  12\n",
      "Origem:  0 Destino:  1 Tipo:  árvore\n",
      "Origem:  0 Destino:  4 Tipo:  None\n",
      "Origem:  1 Destino:  2 Tipo:  árvore\n",
      "Origem:  1 Destino:  4 Tipo:  árvore\n",
      "Origem:  2 Destino:  3 Tipo:  árvore\n",
      "Origem:  3 Destino:  1 Tipo:  retorno\n",
      "Origem:  4 Destino:  3 Tipo:  None\n",
      "Origem:  5 Destino:  4 Tipo:  None\n",
      "Origem:  5 Destino:  0 Tipo:  None\n",
      "[5, 0, 1, 4, 2, 3]\n"
     ]
    }
   ],
   "source": [
    "print(x.topological())"
   ]
  },
  {
   "cell_type": "markdown",
   "metadata": {},
   "source": [
    "**Shortest path:**"
   ]
  },
  {
   "cell_type": "code",
   "execution_count": 10,
   "metadata": {},
   "outputs": [
    {
     "name": "stdout",
     "output_type": "stream",
     "text": [
      "4\n",
      "3\n",
      "1\n",
      "2\n"
     ]
    }
   ],
   "source": [
    "x.shortest_path(4, 2)"
   ]
  },
  {
   "cell_type": "markdown",
   "metadata": {},
   "source": [
    "**Edges:**"
   ]
  },
  {
   "cell_type": "code",
   "execution_count": 11,
   "metadata": {},
   "outputs": [
    {
     "name": "stdout",
     "output_type": "stream",
     "text": [
      "{0: {1: 1, 4: 1}, 1: {2: 1, 4: 1}, 2: {3: 1}, 3: {1: 1}, 4: {3: 1}, 5: {4: 1, 0: 1}}\n"
     ]
    }
   ],
   "source": [
    "print(x.edges)"
   ]
  },
  {
   "cell_type": "code",
   "execution_count": 12,
   "metadata": {},
   "outputs": [],
   "source": [
    "x.remove_edge(0, 1)"
   ]
  },
  {
   "cell_type": "code",
   "execution_count": 13,
   "metadata": {},
   "outputs": [
    {
     "name": "stdout",
     "output_type": "stream",
     "text": [
      "{0: {4: 1}, 1: {2: 1, 4: 1}, 2: {3: 1}, 3: {1: 1}, 4: {3: 1}, 5: {4: 1, 0: 1}}\n"
     ]
    }
   ],
   "source": [
    "print(x.edges)"
   ]
  },
  {
   "cell_type": "code",
   "execution_count": 14,
   "metadata": {},
   "outputs": [],
   "source": [
    "x.add_edge(5, 3)"
   ]
  },
  {
   "cell_type": "code",
   "execution_count": 15,
   "metadata": {},
   "outputs": [
    {
     "name": "stdout",
     "output_type": "stream",
     "text": [
      "{0: {4: 1}, 1: {2: 1, 4: 1}, 2: {3: 1}, 3: {1: 1}, 4: {3: 1}, 5: {4: 1, 0: 1, 3: 1}}\n"
     ]
    }
   ],
   "source": [
    "print(x.edges)"
   ]
  },
  {
   "cell_type": "markdown",
   "metadata": {},
   "source": [
    "[Back to Top](#graphs)"
   ]
  },
  {
   "cell_type": "markdown",
   "metadata": {},
   "source": [
    "### 2.2. Example 2"
   ]
  },
  {
   "cell_type": "markdown",
   "metadata": {},
   "source": [
    "![](images/graph2.jpg)"
   ]
  },
  {
   "cell_type": "markdown",
   "metadata": {},
   "source": [
    "**Definition:**"
   ]
  },
  {
   "cell_type": "code",
   "execution_count": 17,
   "metadata": {},
   "outputs": [],
   "source": [
    "x = AdjListGraph([0, 1, 2, 3], True, False)\n",
    "A = ((0, 1), (1, 2), (2, 2), (2, 0), (3, 1))"
   ]
  },
  {
   "cell_type": "code",
   "execution_count": 18,
   "metadata": {},
   "outputs": [],
   "source": [
    "for (origin, destination) in A:\n",
    "    x.add_edge(origin, destination)"
   ]
  },
  {
   "cell_type": "markdown",
   "metadata": {},
   "source": [
    "**Depth-first search:**"
   ]
  },
  {
   "cell_type": "code",
   "execution_count": 19,
   "metadata": {},
   "outputs": [
    {
     "name": "stdout",
     "output_type": "stream",
     "text": [
      "Nó:  0 Descoberta:  1 Término:  6\n",
      "Nó:  1 Descoberta:  2 Término:  5\n",
      "Nó:  2 Descoberta:  3 Término:  4\n",
      "Nó:  3 Descoberta:  7 Término:  8\n",
      "Origem:  0 Destino:  1 Tipo:  árvore\n",
      "Origem:  1 Destino:  2 Tipo:  árvore\n",
      "Origem:  2 Destino:  2 Tipo:  retorno\n",
      "Origem:  2 Destino:  0 Tipo:  retorno\n",
      "Origem:  3 Destino:  1 Tipo:  None\n"
     ]
    }
   ],
   "source": [
    "x.depth_search()"
   ]
  },
  {
   "cell_type": "markdown",
   "metadata": {},
   "source": [
    "**Breadth-first search:**"
   ]
  },
  {
   "cell_type": "code",
   "execution_count": 21,
   "metadata": {},
   "outputs": [
    {
     "name": "stdout",
     "output_type": "stream",
     "text": [
      "Nó:  0 Distância do nó de origem:  2\n",
      "Nó:  1 Distância do nó de origem:  0\n",
      "Nó:  2 Distância do nó de origem:  1\n",
      "Nó:  3 Distância do nó de origem:  inf\n"
     ]
    }
   ],
   "source": [
    "x.breadth_search(1)"
   ]
  },
  {
   "cell_type": "markdown",
   "metadata": {},
   "source": [
    "**Is the graph acyclic?**"
   ]
  },
  {
   "cell_type": "code",
   "execution_count": 22,
   "metadata": {},
   "outputs": [
    {
     "name": "stdout",
     "output_type": "stream",
     "text": [
      "True\n"
     ]
    }
   ],
   "source": [
    "print(x.acyclic())"
   ]
  },
  {
   "cell_type": "markdown",
   "metadata": {},
   "source": [
    "**Topological sorting:**"
   ]
  },
  {
   "cell_type": "code",
   "execution_count": 23,
   "metadata": {},
   "outputs": [
    {
     "name": "stdout",
     "output_type": "stream",
     "text": [
      "Nó:  0 Descoberta:  1 Término:  6\n",
      "Nó:  1 Descoberta:  2 Término:  5\n",
      "Nó:  2 Descoberta:  3 Término:  4\n",
      "Nó:  3 Descoberta:  7 Término:  8\n",
      "Origem:  0 Destino:  1 Tipo:  árvore\n",
      "Origem:  1 Destino:  2 Tipo:  árvore\n",
      "Origem:  2 Destino:  2 Tipo:  retorno\n",
      "Origem:  2 Destino:  0 Tipo:  retorno\n",
      "Origem:  3 Destino:  1 Tipo:  None\n",
      "[3, 0, 1, 2]\n"
     ]
    }
   ],
   "source": [
    "print(x.topological())"
   ]
  },
  {
   "cell_type": "markdown",
   "metadata": {},
   "source": [
    "**Shortest path:**"
   ]
  },
  {
   "cell_type": "code",
   "execution_count": 33,
   "metadata": {},
   "outputs": [
    {
     "name": "stdout",
     "output_type": "stream",
     "text": [
      "Não existe caminho de  3 para  1\n"
     ]
    }
   ],
   "source": [
    "x.shortest_path(3, 1)"
   ]
  },
  {
   "cell_type": "markdown",
   "metadata": {},
   "source": [
    "**Edges:**"
   ]
  },
  {
   "cell_type": "code",
   "execution_count": 34,
   "metadata": {},
   "outputs": [
    {
     "name": "stdout",
     "output_type": "stream",
     "text": [
      "{0: {1: 1}, 1: {2: 1}, 2: {2: 1, 0: 1}, 3: {1: 1}}\n"
     ]
    }
   ],
   "source": [
    "print(x.edges)"
   ]
  },
  {
   "cell_type": "code",
   "execution_count": 35,
   "metadata": {},
   "outputs": [],
   "source": [
    "x.remove_edge(0, 1)"
   ]
  },
  {
   "cell_type": "code",
   "execution_count": 36,
   "metadata": {},
   "outputs": [
    {
     "name": "stdout",
     "output_type": "stream",
     "text": [
      "{0: {}, 1: {2: 1}, 2: {2: 1, 0: 1}, 3: {1: 1}}\n"
     ]
    }
   ],
   "source": [
    "print(x.edges)"
   ]
  },
  {
   "cell_type": "markdown",
   "metadata": {},
   "source": [
    "[Back to Top](#graphs)"
   ]
  },
  {
   "cell_type": "markdown",
   "metadata": {},
   "source": [
    "### 2.3. Example 3"
   ]
  },
  {
   "cell_type": "markdown",
   "metadata": {},
   "source": [
    "![](images/graph3.jpg)"
   ]
  },
  {
   "cell_type": "markdown",
   "metadata": {},
   "source": [
    "**Definition:**"
   ]
  },
  {
   "cell_type": "code",
   "execution_count": 40,
   "metadata": {},
   "outputs": [],
   "source": [
    "#                 a, b, c, d, e, f, g, h\n",
    "x = AdjListGraph([0, 1, 2, 3, 4, 5, 6, 7], True, False)\n",
    "A = ((0, 1), (0, 2), (0, 3), (2, 1), (2, 4), (2, 6), (3, 0), (4, 7), (5, 1), (6, 3), (6, 7))"
   ]
  },
  {
   "cell_type": "code",
   "execution_count": 41,
   "metadata": {},
   "outputs": [],
   "source": [
    "for (origin, destination) in A:\n",
    "    x.add_edge(origin, destination)"
   ]
  },
  {
   "cell_type": "markdown",
   "metadata": {},
   "source": [
    "**Depth-first search:**"
   ]
  },
  {
   "cell_type": "code",
   "execution_count": 42,
   "metadata": {},
   "outputs": [
    {
     "name": "stdout",
     "output_type": "stream",
     "text": [
      "Nó:  0 Descoberta:  1 Término:  14\n",
      "Nó:  1 Descoberta:  2 Término:  3\n",
      "Nó:  2 Descoberta:  4 Término:  13\n",
      "Nó:  3 Descoberta:  10 Término:  11\n",
      "Nó:  4 Descoberta:  5 Término:  8\n",
      "Nó:  5 Descoberta:  15 Término:  16\n",
      "Nó:  6 Descoberta:  9 Término:  12\n",
      "Nó:  7 Descoberta:  6 Término:  7\n",
      "Origem:  0 Destino:  1 Tipo:  árvore\n",
      "Origem:  0 Destino:  2 Tipo:  árvore\n",
      "Origem:  0 Destino:  3 Tipo:  None\n",
      "Origem:  2 Destino:  1 Tipo:  None\n",
      "Origem:  2 Destino:  4 Tipo:  árvore\n",
      "Origem:  2 Destino:  6 Tipo:  árvore\n",
      "Origem:  3 Destino:  0 Tipo:  retorno\n",
      "Origem:  4 Destino:  7 Tipo:  árvore\n",
      "Origem:  5 Destino:  1 Tipo:  None\n",
      "Origem:  6 Destino:  3 Tipo:  árvore\n",
      "Origem:  6 Destino:  7 Tipo:  None\n"
     ]
    }
   ],
   "source": [
    "x.depth_search()"
   ]
  },
  {
   "cell_type": "markdown",
   "metadata": {},
   "source": [
    "**Breadth-first search:**"
   ]
  },
  {
   "cell_type": "code",
   "execution_count": 43,
   "metadata": {},
   "outputs": [
    {
     "name": "stdout",
     "output_type": "stream",
     "text": [
      "Nó:  0 Distância do nó de origem:  inf\n",
      "Nó:  1 Distância do nó de origem:  inf\n",
      "Nó:  2 Distância do nó de origem:  inf\n",
      "Nó:  3 Distância do nó de origem:  inf\n",
      "Nó:  4 Distância do nó de origem:  0\n",
      "Nó:  5 Distância do nó de origem:  inf\n",
      "Nó:  6 Distância do nó de origem:  inf\n",
      "Nó:  7 Distância do nó de origem:  1\n"
     ]
    }
   ],
   "source": [
    "x.breadth_search(4)"
   ]
  },
  {
   "cell_type": "markdown",
   "metadata": {},
   "source": [
    "**Is the graph acyclic?**"
   ]
  },
  {
   "cell_type": "code",
   "execution_count": 44,
   "metadata": {},
   "outputs": [
    {
     "name": "stdout",
     "output_type": "stream",
     "text": [
      "True\n"
     ]
    }
   ],
   "source": [
    "print(x.acyclic())"
   ]
  },
  {
   "cell_type": "markdown",
   "metadata": {},
   "source": [
    "**Topological sorting:**"
   ]
  },
  {
   "cell_type": "code",
   "execution_count": 45,
   "metadata": {},
   "outputs": [
    {
     "name": "stdout",
     "output_type": "stream",
     "text": [
      "Nó:  0 Descoberta:  1 Término:  14\n",
      "Nó:  1 Descoberta:  2 Término:  3\n",
      "Nó:  2 Descoberta:  4 Término:  13\n",
      "Nó:  3 Descoberta:  10 Término:  11\n",
      "Nó:  4 Descoberta:  5 Término:  8\n",
      "Nó:  5 Descoberta:  15 Término:  16\n",
      "Nó:  6 Descoberta:  9 Término:  12\n",
      "Nó:  7 Descoberta:  6 Término:  7\n",
      "Origem:  0 Destino:  1 Tipo:  árvore\n",
      "Origem:  0 Destino:  2 Tipo:  árvore\n",
      "Origem:  0 Destino:  3 Tipo:  None\n",
      "Origem:  2 Destino:  1 Tipo:  None\n",
      "Origem:  2 Destino:  4 Tipo:  árvore\n",
      "Origem:  2 Destino:  6 Tipo:  árvore\n",
      "Origem:  3 Destino:  0 Tipo:  retorno\n",
      "Origem:  4 Destino:  7 Tipo:  árvore\n",
      "Origem:  5 Destino:  1 Tipo:  None\n",
      "Origem:  6 Destino:  3 Tipo:  árvore\n",
      "Origem:  6 Destino:  7 Tipo:  None\n",
      "[5, 0, 2, 6, 3, 4, 7, 1]\n"
     ]
    }
   ],
   "source": [
    "print(x.topological())"
   ]
  },
  {
   "cell_type": "markdown",
   "metadata": {},
   "source": [
    "**Shortest path:**"
   ]
  },
  {
   "cell_type": "code",
   "execution_count": 48,
   "metadata": {},
   "outputs": [
    {
     "name": "stdout",
     "output_type": "stream",
     "text": [
      "Não existe caminho de  6 para  0\n"
     ]
    }
   ],
   "source": [
    "x.shortest_path(6, 0)"
   ]
  },
  {
   "cell_type": "markdown",
   "metadata": {},
   "source": [
    "**Edges:**"
   ]
  },
  {
   "cell_type": "code",
   "execution_count": 49,
   "metadata": {},
   "outputs": [
    {
     "name": "stdout",
     "output_type": "stream",
     "text": [
      "{0: {1: 1, 2: 1, 3: 1}, 1: {}, 2: {1: 1, 4: 1, 6: 1}, 3: {0: 1}, 4: {7: 1}, 5: {1: 1}, 6: {3: 1, 7: 1}, 7: {}}\n"
     ]
    }
   ],
   "source": [
    "print(x.edges)"
   ]
  },
  {
   "cell_type": "code",
   "execution_count": 50,
   "metadata": {},
   "outputs": [],
   "source": [
    "x.remove_edge(0, 1)"
   ]
  },
  {
   "cell_type": "code",
   "execution_count": 51,
   "metadata": {},
   "outputs": [
    {
     "name": "stdout",
     "output_type": "stream",
     "text": [
      "{0: {2: 1, 3: 1}, 1: {}, 2: {1: 1, 4: 1, 6: 1}, 3: {0: 1}, 4: {7: 1}, 5: {1: 1}, 6: {3: 1, 7: 1}, 7: {}}\n"
     ]
    }
   ],
   "source": [
    "print(x.edges)"
   ]
  },
  {
   "cell_type": "markdown",
   "metadata": {},
   "source": [
    "[Back to Top](#graphs)"
   ]
  }
 ],
 "metadata": {
  "kernelspec": {
   "display_name": "Python 3",
   "language": "python",
   "name": "python3"
  },
  "language_info": {
   "codemirror_mode": {
    "name": "ipython",
    "version": 3
   },
   "file_extension": ".py",
   "mimetype": "text/x-python",
   "name": "python",
   "nbconvert_exporter": "python",
   "pygments_lexer": "ipython3",
   "version": "3.7.3"
  }
 },
 "nbformat": 4,
 "nbformat_minor": 4
}
